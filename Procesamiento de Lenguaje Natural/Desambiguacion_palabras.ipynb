{
  "nbformat": 4,
  "nbformat_minor": 0,
  "metadata": {
    "kernelspec": {
      "display_name": "Python 3",
      "language": "python",
      "name": "python3"
    },
    "language_info": {
      "codemirror_mode": {
        "name": "ipython",
        "version": 3
      },
      "file_extension": ".py",
      "mimetype": "text/x-python",
      "name": "python",
      "nbconvert_exporter": "python",
      "pygments_lexer": "ipython3",
      "version": "3.7.0"
    },
    "colab": {
      "name": "Desambiguacion_palabras.ipynb",
      "provenance": [],
      "collapsed_sections": []
    }
  },
  "cells": [
    {
      "cell_type": "markdown",
      "metadata": {
        "id": "js2yPtgIT7e_"
      },
      "source": [
        "# Desambiguación del sentido de las palabras\n",
        "\n",
        "La desambiguación de palabras es una de las tareas comunes en Procesamiento de Lenguaje Natural (NLP por sus siglas en inglés) en donde se pueden aplicar métodos basados en aprendizaje supervisado, semi-supervisado y no supervisado para habilitar algoritmos que logren desambiguar palabras en contextos específicos. En este notebbok se exploran diferentes formas de solucionar la tarea de desambigaur palabras en idioma inglés con diferentes frameworks y técnicas del estado del arte.\n",
        "\n",
        "\n",
        "# Librerías utilizadas\n",
        "\n",
        "- NLTK: https://www.nltk.org/install.html\n",
        "- Seaborn\n",
        "- Matplotlib\n",
        "- Gensim\n",
        "\n",
        "\n",
        "# Datasets utilizados\n",
        "\n",
        " - corpus etiquetado en inglés llamado **Senseval 2** displonible en la librería NLTK. http://www.nltk.org/howto/corpus.html\n"
      ]
    },
    {
      "cell_type": "markdown",
      "metadata": {
        "id": "lTUJKklQT7fA"
      },
      "source": [
        "# Dercarga del dataset"
      ]
    },
    {
      "cell_type": "code",
      "metadata": {
        "colab": {
          "base_uri": "https://localhost:8080/"
        },
        "id": "ox8LhlJdT7fA",
        "outputId": "57f33c49-7ff8-4b78-c8fd-46c0a88d1645"
      },
      "source": [
        "import nltk\n",
        "nltk.download('senseval')\n",
        "from nltk.corpus import senseval"
      ],
      "execution_count": null,
      "outputs": [
        {
          "output_type": "stream",
          "text": [
            "[nltk_data] Downloading package senseval to /root/nltk_data...\n",
            "[nltk_data]   Package senseval is already up-to-date!\n"
          ],
          "name": "stdout"
        }
      ]
    },
    {
      "cell_type": "markdown",
      "metadata": {
        "id": "tOAo4QayT7fB"
      },
      "source": [
        "El corpus **Senseval 2** contiene datos etiquetados que sirven para entrenar un clasificador que permita desambiguar el sentido de las palabras. Cada elemento del corpus **Senseval 2** se corresponde a una palabra ambigua. Para poder extraer la información sobre las palabras es imprescindible la manera en la que se identifican en el corpus, es decir, sus identificadores. Con el siguiente comando, se extraen los identificadores de las palabras tratadas en el corpus. "
      ]
    },
    {
      "cell_type": "code",
      "metadata": {
        "scrolled": true,
        "colab": {
          "base_uri": "https://localhost:8080/"
        },
        "id": "WcvAx1yhT7fB",
        "outputId": "706e00ad-9299-48d3-bd2a-d0bcf01a7fe0"
      },
      "source": [
        "senseval.fileids()"
      ],
      "execution_count": null,
      "outputs": [
        {
          "output_type": "execute_result",
          "data": {
            "text/plain": [
              "['hard.pos', 'interest.pos', 'line.pos', 'serve.pos']"
            ]
          },
          "metadata": {
            "tags": []
          },
          "execution_count": 109
        }
      ]
    },
    {
      "cell_type": "markdown",
      "metadata": {
        "id": "bvdu7yMpT7fB"
      },
      "source": [
        "Para cada una de las palabras ambiguas, el corpus contiene una lista de instancias correspondientes a las ocurrencias de esa palabra. Para cada instancia se proporciona la palabra, una lista de sentidos que se aplican a la aparición de esa palabra y el contexto de la palabra. "
      ]
    },
    {
      "cell_type": "markdown",
      "metadata": {
        "id": "ebuy6FAbT7fC"
      },
      "source": [
        "En la siguiente figura se observa el comando utilizado para visualizar la información que contiene cada instancia de la palabra ambigua *«hard»*."
      ]
    },
    {
      "cell_type": "code",
      "metadata": {
        "colab": {
          "base_uri": "https://localhost:8080/"
        },
        "id": "eI8VHGXTT7fC",
        "outputId": "04d41ae9-a12e-42b8-a12b-e23d979cabd1"
      },
      "source": [
        "senseval.instances('hard.pos')"
      ],
      "execution_count": null,
      "outputs": [
        {
          "output_type": "execute_result",
          "data": {
            "text/plain": [
              "[SensevalInstance(word='hard-a', position=20, context=[('``', '``'), ('he', 'PRP'), ('may', 'MD'), ('lose', 'VB'), ('all', 'DT'), ('popular', 'JJ'), ('support', 'NN'), (',', ','), ('but', 'CC'), ('someone', 'NN'), ('has', 'VBZ'), ('to', 'TO'), ('kill', 'VB'), ('him', 'PRP'), ('to', 'TO'), ('defeat', 'VB'), ('him', 'PRP'), ('and', 'CC'), ('that', 'DT'), (\"'s\", 'VBZ'), ('hard', 'JJ'), ('to', 'TO'), ('do', 'VB'), ('.', '.'), (\"''\", \"''\")], senses=('HARD1',)), SensevalInstance(word='hard-a', position=10, context=[('clever', 'NNP'), ('white', 'NNP'), ('house', 'NNP'), ('``', '``'), ('spin', 'VB'), ('doctors', 'NNS'), (\"''\", \"''\"), ('are', 'VBP'), ('having', 'VBG'), ('a', 'DT'), ('hard', 'JJ'), ('time', 'NN'), ('helping', 'VBG'), ('president', 'NNP'), ('bush', 'NNP'), ('explain', 'VB'), ('away', 'RB'), ('the', 'DT'), ('economic', 'JJ'), ('bashing', 'NN'), ('that', 'IN'), ('low-and', 'JJ'), ('middle-income', 'JJ'), ('workers', 'NNS'), ('are', 'VBP'), ('taking', 'VBG'), ('these', 'DT'), ('days', 'NNS'), ('.', '.')], senses=('HARD1',)), ...]"
            ]
          },
          "metadata": {
            "tags": []
          },
          "execution_count": 110
        }
      ]
    },
    {
      "cell_type": "markdown",
      "metadata": {
        "id": "sqX_4bQIT7fC"
      },
      "source": [
        "Por ejemplo, en la primera instancia (`SensevalInstance`) la palabra ambigua (`word`) es `‘hard-a’`, lo que indica que la palabra es `‘hard’` y en este caso la categoría gramatical es un adjetivo, identificado por el sufijo `‘-a’`."
      ]
    },
    {
      "cell_type": "markdown",
      "metadata": {
        "id": "In9PasmIT7fD"
      },
      "source": [
        "El campo `position` indica la posición en la oración en la que se encuentra la palabra ambigua, en este caso la palabra `‘hard’` se encuentra en la posición 20."
      ]
    },
    {
      "cell_type": "markdown",
      "metadata": {
        "id": "0PFiTSl5T7fD"
      },
      "source": [
        "El campo `context` representa el contexto, es decir, la oración en la que se encuentra la palabra ambigua, en este ejemplo *«\"he may lose all popular support, but someone has to kill him to defeat him and that's hard to do.\"»*. El contexto viene representado por pares formados por una palabra y la correspondiente etiqueta gramatical. Por ejemplo, el par `(‘he’, ‘PRP’)` que aparece en el contexto indica que la categoría gramatical asociada a la palabra `‘he’` es un pronombre personal `‘PRP’`. "
      ]
    },
    {
      "cell_type": "markdown",
      "metadata": {
        "id": "Obnbei1pT7fD"
      },
      "source": [
        "Por último, el campo `senses` contiene los posibles sentidos de la palabra ambigua, en el ejemplo `‘HARD1’`. Los sentidos del corpus hacen referencia a los sentidos de la palabra recogidos en la base de datos de relaciones léxicas WordNet<sup>1</sup>.\n",
        "\n",
        "\n",
        "<sup>1</sup> Puede que los sentidos que aparecen en Senseval 2 difieran de los que se encuentran actualmente en WordNet, debido a la constante actualización de este. En este laboratorio no será necesario trabajar con WordNet, se menciona como información adicional."
      ]
    },
    {
      "cell_type": "markdown",
      "metadata": {
        "id": "p4sD5tl-T7fE"
      },
      "source": [
        "En este caso `‘HARD1’` hace referencia la primera definición de la palabra `‘hard’` que aparece en WordNet, a «difícil»,  *«difficult, hard (not easy; requiring great physical or mental effort to accomplish or comprehend or endure)»*. Esta información se puede obtener utilizando la interfaz de búsqueda web de WordNet cuyo resultado se muestra en la siguiente figura.\n",
        "\n",
        "***\n",
        "Accede al interfaz de búsqueda de WordNet a través del aula virtual o desde la siguiente dirección web: http://wordnetweb.princeton.edu/perl/webwn\n",
        "\n",
        "***\n",
        "\n"
      ]
    },
    {
      "cell_type": "markdown",
      "metadata": {
        "id": "qx6D2qFlT7fE"
      },
      "source": [
        "**Nota:** NLTK implementa también un lector para la información disponible en la base de datos de relaciones léxicas WordNet. Aunque no es necesario para realizar esta actividad de laboratorio, WordNet se puede importar utilizando el siguiente comando:\n",
        "\n",
        "> *from nltk.corpus import wordnet*"
      ]
    },
    {
      "cell_type": "markdown",
      "metadata": {
        "id": "2tnHrP8OT7fE"
      },
      "source": [
        ""
      ]
    },
    {
      "cell_type": "markdown",
      "metadata": {
        "id": "XV21C18HT7fE"
      },
      "source": [
        "## 1. Análisis exploratorio de los datos\n",
        "\n",
        "Analiza el corpus Senseval 2 que vas a utilizar para entrenar los clasificadores. Para realizar el análisis utiliza las funcionalidades que aporta NLTK. Desarrolla el código necesario y responde a las siguientes preguntas."
      ]
    },
    {
      "cell_type": "markdown",
      "metadata": {
        "id": "CBGxIc9OT7fF"
      },
      "source": [
        "Método que a partir de la palabra ambigua, o mejor dicho del nombre del archivo del corpus `word` para la palabra ambigua, obtiene cuáles son los posibles **sentidos de la palabra ambigua**:"
      ]
    },
    {
      "cell_type": "code",
      "metadata": {
        "id": "yk_eodTTT7fF"
      },
      "source": [
        "def senses(word):\n",
        "    \"\"\"\n",
        "    This takes a target word from senseval-2 and it returns the list of possible senses for the word\n",
        "    \"\"\"\n",
        "    return list(set(i.senses[0] for i in senseval.instances(word)))"
      ],
      "execution_count": null,
      "outputs": []
    },
    {
      "cell_type": "markdown",
      "metadata": {
        "id": "GhHMSIyeT7fF"
      },
      "source": [
        "Sentidos de las palabras ambiguas:"
      ]
    },
    {
      "cell_type": "code",
      "metadata": {
        "colab": {
          "base_uri": "https://localhost:8080/"
        },
        "id": "fdoQZU8JT7fF",
        "outputId": "fc061710-f002-436d-fd82-fed7a4446015"
      },
      "source": [
        "senses('hard.pos')"
      ],
      "execution_count": null,
      "outputs": [
        {
          "output_type": "execute_result",
          "data": {
            "text/plain": [
              "['HARD2', 'HARD3', 'HARD1']"
            ]
          },
          "metadata": {
            "tags": []
          },
          "execution_count": 112
        }
      ]
    },
    {
      "cell_type": "code",
      "metadata": {
        "colab": {
          "base_uri": "https://localhost:8080/"
        },
        "id": "JBPNJlFJT7fF",
        "outputId": "f59e0c76-1906-481d-cc7f-66184838cbbc"
      },
      "source": [
        "senses('serve.pos')"
      ],
      "execution_count": null,
      "outputs": [
        {
          "output_type": "execute_result",
          "data": {
            "text/plain": [
              "['SERVE2', 'SERVE10', 'SERVE6', 'SERVE12']"
            ]
          },
          "metadata": {
            "tags": []
          },
          "execution_count": 113
        }
      ]
    },
    {
      "cell_type": "markdown",
      "metadata": {
        "id": "plBLDhtXT7fG"
      },
      "source": [
        "Como se puede observar al ejecutar la función senses, se obtiene que para la palabra «hard» se tienen **tres(3)** sentidos y para la palabra «serve» se obtienen **cuatro(4)** posibles sentidos."
      ]
    },
    {
      "cell_type": "markdown",
      "metadata": {
        "id": "jFQ7wgEhT7fG"
      },
      "source": [
        "Método que obtiene todas las **instancias de un posible sentido de la palabra ambigua** a partir de la lista de instancias de una palabra `instances` y el nombre del sentido palabra ambigua `sense`:"
      ]
    },
    {
      "cell_type": "code",
      "metadata": {
        "id": "a3OjKTxWT7fG"
      },
      "source": [
        "def sense_instances(instances, sense):\n",
        "    \"\"\"\n",
        "    This returns the list of instances in instances that have the sense sense\n",
        "    \"\"\"\n",
        "    return [instance for instance in instances if instance.senses[0]==sense]"
      ],
      "execution_count": null,
      "outputs": []
    },
    {
      "cell_type": "code",
      "metadata": {
        "id": "cUXdRLzcT7fG",
        "colab": {
          "base_uri": "https://localhost:8080/"
        },
        "outputId": "bf5077e4-d48e-47fb-fadf-fa00f504656d"
      },
      "source": [
        "conteo_instancias = {}\n",
        "for word in ['hard.pos','serve.pos']:\n",
        "  lista_sentidos = {}\n",
        "  for sense in senses(word):\n",
        "    conteo = len(sense_instances(senseval.instances(word),sense))\n",
        "    lista_sentidos[sense] = conteo\n",
        "    print (f\"Existen {conteo} instancias para el sentido {sense} de la palabra {word}\")\n",
        "  conteo_instancias[word] = lista_sentidos"
      ],
      "execution_count": null,
      "outputs": [
        {
          "output_type": "stream",
          "text": [
            "Existen 502 instancias para el sentido HARD2 de la palabra hard.pos\n",
            "Existen 376 instancias para el sentido HARD3 de la palabra hard.pos\n",
            "Existen 3455 instancias para el sentido HARD1 de la palabra hard.pos\n",
            "Existen 853 instancias para el sentido SERVE2 de la palabra serve.pos\n",
            "Existen 1814 instancias para el sentido SERVE10 de la palabra serve.pos\n",
            "Existen 439 instancias para el sentido SERVE6 de la palabra serve.pos\n",
            "Existen 1272 instancias para el sentido SERVE12 de la palabra serve.pos\n"
          ],
          "name": "stdout"
        }
      ]
    },
    {
      "cell_type": "code",
      "metadata": {
        "id": "W47PG2n3S99l"
      },
      "source": [
        "import seaborn as sns\n",
        "import matplotlib.pyplot as plt  \n",
        "import numpy as np\n",
        "import pandas as pd"
      ],
      "execution_count": null,
      "outputs": []
    },
    {
      "cell_type": "code",
      "metadata": {
        "colab": {
          "base_uri": "https://localhost:8080/",
          "height": 451
        },
        "id": "BYYBc4LzZ0An",
        "outputId": "f01842f2-ea8a-475b-c65f-6a97e47b170d"
      },
      "source": [
        "fig, (ax1, ax2) = plt.subplots(1, 2, figsize=(10,8))\n",
        "fig.suptitle('Distribución de lo sentidos por palabra')\n",
        "\n",
        "ax1.pie(list(conteo_instancias['hard.pos'].values()), labels=list(conteo_instancias['hard.pos'].keys()), autopct=\"%.1f%%\")\n",
        "ax1.set_title(\"Distribución sentidos hard.pos\")\n",
        "\n",
        "ax2.pie(conteo_instancias['serve.pos'].values(), labels=conteo_instancias['serve.pos'].keys(), autopct=\"%.1f%%\")\n",
        "ax2.set_title(\"Distribución sentidos hard.pos\")"
      ],
      "execution_count": null,
      "outputs": [
        {
          "output_type": "execute_result",
          "data": {
            "text/plain": [
              "Text(0.5, 1.0, 'Distribución sentidos hard.pos')"
            ]
          },
          "metadata": {
            "tags": []
          },
          "execution_count": 117
        },
        {
          "output_type": "display_data",
          "data": {
            "image/png": "[encoded data removed]",
            "text/plain": [
              "<Figure size 720x576 with 2 Axes>"
            ]
          },
          "metadata": {
            "tags": []
          }
        }
      ]
    },
    {
      "cell_type": "code",
      "metadata": {
        "id": "1AoYEi1MvOl3"
      },
      "source": [
        "df_hard = pd.DataFrame.from_dict(conteo_instancias['hard.pos'], orient='index', columns=['conteo']).reset_index()\n",
        "df_serve = pd.DataFrame.from_dict(conteo_instancias['serve.pos'], orient='index', columns=['conteo']).reset_index()"
      ],
      "execution_count": null,
      "outputs": []
    },
    {
      "cell_type": "code",
      "metadata": {
        "colab": {
          "base_uri": "https://localhost:8080/",
          "height": 449
        },
        "id": "5gGN2j_fYYr8",
        "outputId": "55523ed4-d4ef-4858-b787-bdce5cab0c8f"
      },
      "source": [
        "fig2, (ax3, ax4) = plt.subplots(1, 2, figsize=(14,6))\n",
        "fig2.suptitle('Distribución de lo sentidos por palabra')\n",
        "\n",
        "sns.set_style(\"whitegrid\")\n",
        "\n",
        "ax3 = sns.barplot(y='conteo', x='index',  data=df_hard,  ci=None, palette=\"muted\",orient='v', ax=ax3 )\n",
        "ax3.set_title(\"Porcentaje sentidos hard\", fontsize=15)\n",
        "ax3.set_xlabel (\"Sentido\")\n",
        "ax3.set_ylabel (\"Frecuencia\")\n",
        "\n",
        "ax4 = sns.barplot(y='conteo', x='index',  data=df_serve,  ci=None, palette=\"muted\",orient='v',  ax=ax4  )\n",
        "ax4.set_title(\"Porcentaje sentidos serve\", fontsize=15)\n",
        "ax4.set_xlabel (\"Sentido\")\n",
        "ax4.set_ylabel (\"Frecuencia\")"
      ],
      "execution_count": null,
      "outputs": [
        {
          "output_type": "execute_result",
          "data": {
            "text/plain": [
              "Text(0, 0.5, 'Frecuencia')"
            ]
          },
          "metadata": {
            "tags": []
          },
          "execution_count": 119
        },
        {
          "output_type": "display_data",
          "data": {
            "image/png": "[encoded data removed]",
            "text/plain": [
              "<Figure size 1008x432 with 2 Axes>"
            ]
          },
          "metadata": {
            "tags": []
          }
        }
      ]
    },
    {
      "cell_type": "markdown",
      "metadata": {
        "id": "hIPXkBSAT7fH"
      },
      "source": [
        "* En el contexto, las palabras ambiguas pueden aparecer en diferentes formas gramaticales. Por ejemplo, en el caso de la palabra ambigua *«hard»*, esta aparece tanto la forma base, el adjetivo *«hard»* como en comparativo *«harder»* y como en superlativo *«hardest»*. ¿Qué formas gramaticales aparecen en el contexto para cada una de las palabas ambiguas *«hard»* y *«serve»*?"
      ]
    },
    {
      "cell_type": "markdown",
      "metadata": {
        "id": "TXRuc-dPT7fH"
      },
      "source": [
        "Método que muestra las diferentes **versiones de la palabra ambigua** a partir del nombre del archivo del corpus `word` para la palabra ambiguala palabra ambigua:"
      ]
    },
    {
      "cell_type": "code",
      "metadata": {
        "id": "cvkDgzx3T7fH"
      },
      "source": [
        "def tokens(word):\n",
        "    \"\"\"\n",
        "    This takes a target word from senseval-2 and it returns the list of possible tokens for the word\n",
        "    \"\"\"\n",
        "    token = set()\n",
        "    for inst in senseval.instances(word)[:]:\n",
        "        token.update([w for (w,t) in inst.context[inst.position:inst.position+1]])\n",
        "    return list(token)"
      ],
      "execution_count": null,
      "outputs": []
    },
    {
      "cell_type": "markdown",
      "metadata": {
        "id": "FDdg585gT7fH"
      },
      "source": [
        "Mostrar las diferentes versiones de la palabra ambigua"
      ]
    },
    {
      "cell_type": "code",
      "metadata": {
        "id": "vALWHEKyT7fH",
        "colab": {
          "base_uri": "https://localhost:8080/"
        },
        "outputId": "31009f45-8364-4faf-8a79-305592a42880"
      },
      "source": [
        "tokens('hard.pos')"
      ],
      "execution_count": null,
      "outputs": [
        {
          "output_type": "execute_result",
          "data": {
            "text/plain": [
              "['harder', 'hard', 'hardest']"
            ]
          },
          "metadata": {
            "tags": []
          },
          "execution_count": 121
        }
      ]
    },
    {
      "cell_type": "code",
      "metadata": {
        "id": "CiP0aF87T7fH",
        "colab": {
          "base_uri": "https://localhost:8080/"
        },
        "outputId": "0911798c-b5b4-47da-d86c-9d3d82e5ba69"
      },
      "source": [
        "tokens('serve.pos')"
      ],
      "execution_count": null,
      "outputs": [
        {
          "output_type": "execute_result",
          "data": {
            "text/plain": [
              "['served', 'serve', 'serving', 'serves']"
            ]
          },
          "metadata": {
            "tags": []
          },
          "execution_count": 122
        }
      ]
    },
    {
      "cell_type": "markdown",
      "metadata": {
        "id": "MAyfh_NQAkJ_"
      },
      "source": [
        "Para verificar si las instancias cumplen con el formato se validan las siguientes condiciones:\n",
        "\n",
        "1.   Que los valores de las etiquetas y palabras no estén vacías\n",
        "2.   Que en el contexto solo existan tuplas (palabra, etiqueta)"
      ]
    },
    {
      "cell_type": "code",
      "metadata": {
        "colab": {
          "base_uri": "https://localhost:8080/"
        },
        "id": "4mNgA4ZzJPnk",
        "outputId": "bcb501bd-c748-461a-a8d5-31f5fc23b297"
      },
      "source": [
        "# Sentidos definidos en el corpus senseval\n",
        "senseval.fileids()"
      ],
      "execution_count": null,
      "outputs": [
        {
          "output_type": "execute_result",
          "data": {
            "text/plain": [
              "['hard.pos', 'interest.pos', 'line.pos', 'serve.pos']"
            ]
          },
          "metadata": {
            "tags": []
          },
          "execution_count": 123
        }
      ]
    },
    {
      "cell_type": "code",
      "metadata": {
        "id": "VjJduXoFT7fI",
        "colab": {
          "base_uri": "https://localhost:8080/"
        },
        "outputId": "67a33e9d-2e0b-4923-a2a1-4757f9ab2526"
      },
      "source": [
        "# Valición de etiquetas y palabras no vacías para las apariciones de lo sentidos en el corpus\n",
        "for sense in senseval.fileids():\n",
        "    instances = senseval.instances(sense)\n",
        "    count_empty_tuples = 0\n",
        "    for i,instance in enumerate(instances):\n",
        "        word, tag = instances[i].context[instances[i].position]\n",
        "        if word == '':\n",
        "            print ('existen palabras vacías')\n",
        "            count_empty_tuples += 1\n",
        "        if tag == '':\n",
        "            print ('existen tags vacíos')\n",
        "            count_empty_tuples += 1\n",
        "if count_empty_tuples < 1:\n",
        "  print ('No existen tuplas vacías')"
      ],
      "execution_count": null,
      "outputs": [
        {
          "output_type": "stream",
          "text": [
            "No existen tuplas vacías\n"
          ],
          "name": "stdout"
        }
      ]
    },
    {
      "cell_type": "code",
      "metadata": {
        "colab": {
          "base_uri": "https://localhost:8080/"
        },
        "id": "CbEJCubCI6zg",
        "outputId": "a879eb19-9d67-4c92-96ee-063cc32243cb"
      },
      "source": [
        "import random\n",
        "\n",
        "# Valición que en el contexto solo existan tuplas con la estructura (palabra, etiqueta)\n",
        "count_error_tuples = {}\n",
        "\n",
        "for sense in senseval.fileids():\n",
        "    tuples_error_list = []\n",
        "    count_error_tuples[sense] = 0\n",
        "    instances = senseval.instances(sense)\n",
        "    for i,instance in enumerate(instances):\n",
        "        for tuples in instances[i].context:\n",
        "          if len(tuples) != 2:\n",
        "            tuples_error_list.append(f\"Error en el contexto de la instancia [{i}] con valor '{tuples}' del sentido <<{sense}>>, la tupla no tiene la estructura (word, tag)\")\n",
        "            count_error_tuples[sense] += 1\n",
        "\n",
        "# Imprime el número de tuplas con error por sentido\n",
        "for tuples in count_error_tuples:\n",
        "    print (f\"El sentido {tuples} tiene {count_error_tuples[tuples]} de tuplas que no tienen la estructura (word, tag)\")\n",
        "\n",
        "# imprime cinco(5) errores de la lista seleccionados aleatoreamente:\n",
        "print (\"\\nEJEMPLOS DE ERRORES:\")\n",
        "for i in range(0,5): print(random.choice(tuples_error_list))"
      ],
      "execution_count": null,
      "outputs": [
        {
          "output_type": "stream",
          "text": [
            "El sentido hard.pos tiene 34 de tuplas que no tienen la estructura (word, tag)\n",
            "El sentido interest.pos tiene 0 de tuplas que no tienen la estructura (word, tag)\n",
            "El sentido line.pos tiene 237 de tuplas que no tienen la estructura (word, tag)\n",
            "El sentido serve.pos tiene 94 de tuplas que no tienen la estructura (word, tag)\n",
            "\n",
            "EJEMPLOS DE ERRORES:\n",
            "Error en el contexto de la instancia [3341] con valor 'FRASL' del sentido <<serve.pos>>, la tupla no tiene la estructura (word, tag)\n",
            "Error en el contexto de la instancia [412] con valor 'FRASL' del sentido <<serve.pos>>, la tupla no tiene la estructura (word, tag)\n",
            "Error en el contexto de la instancia [1928] con valor 'FRASL' del sentido <<serve.pos>>, la tupla no tiene la estructura (word, tag)\n",
            "Error en el contexto de la instancia [133] con valor 'FRASL' del sentido <<serve.pos>>, la tupla no tiene la estructura (word, tag)\n",
            "Error en el contexto de la instancia [1041] con valor 'FRASL' del sentido <<serve.pos>>, la tupla no tiene la estructura (word, tag)\n"
          ],
          "name": "stdout"
        }
      ]
    },
    {
      "cell_type": "markdown",
      "metadata": {
        "id": "t7L1tkd4T7fI"
      },
      "source": [
        "*   El dataset no contiene valores vacíos de palabra y etiqueta para las palabras de sentidos ambiguos.\n",
        "*   Se identifican los siguientes errores:\n",
        "\n",
        " - El sentido hard.pos tiene 34 de tuplas que no tienen la estructura (word,  - tag)\n",
        " - El sentido interest.pos tiene 0 de tuplas que no tienen la estructura (word, tag)\n",
        " - El sentido line.pos tiene 237 de tuplas que no tienen la estructura (word, tag)\n",
        " - El sentido serve.pos tiene 94 de tuplas que no tienen la estructura (word, tag)\n",
        "\n",
        "Ejemplos de errores:\n",
        "\n",
        " - Error en el contexto de la instancia [1213] con valor 'FRASL' del sentido <<serve.pos>>, la tupla no tiene la estructura (word, tag)\n",
        " - Error en el contexto de la instancia [4015] con valor 'FRASL' del sentido <<serve.pos>>, la tupla no tiene la estructura (word, tag)\n",
        " - Error en el contexto de la instancia [664] con valor 'FRASL' del sentido <<serve.pos>>, la tupla no tiene la estructura (word, tag)\n",
        " - Error en el contexto de la instancia [3341] con valor 'FRASL' del sentido <<serve.pos>>, la tupla no tiene la estructura (word, tag)\n",
        " - Error en el contexto de la instancia [151] con valor 'FRASL' del sentido <<serve.pos>>, la tupla no tiene la estructura (word, tag)\n",
        "\n",
        "\n",
        "\n"
      ]
    },
    {
      "cell_type": "markdown",
      "metadata": {
        "id": "UEx6h4CvT7fI"
      },
      "source": [
        "# **Parte 2: Extracción de características**\n",
        "\n",
        "Para poder entrenar un clasificador es necesario extraer un conjunto de características lingüísticas a partir del corpus etiquetado. Por lo tanto, debes crear el código en Python que te permita extraer diferentes conjuntos de características a partir de Senseval 2. "
      ]
    },
    {
      "cell_type": "markdown",
      "metadata": {
        "id": "I-iDmyR6T7fI"
      },
      "source": [
        "### Extracción de características basada en las palabras vecinas"
      ]
    },
    {
      "cell_type": "markdown",
      "metadata": {
        "id": "9F_4tAUsT7fJ"
      },
      "source": [
        "Para una instancia de la palaba ambigua «hard» su contexto se muestra a continuación:"
      ]
    },
    {
      "cell_type": "code",
      "metadata": {
        "id": "VR_zAIqdT7fJ"
      },
      "source": [
        "instances_hard = senseval.instances('hard.pos')"
      ],
      "execution_count": null,
      "outputs": []
    },
    {
      "cell_type": "code",
      "metadata": {
        "id": "Di9nykKYT7fJ"
      },
      "source": [
        "inst_hard_1 = instances_hard[1]"
      ],
      "execution_count": null,
      "outputs": []
    },
    {
      "cell_type": "code",
      "metadata": {
        "id": "DoEOk9mbT7fJ",
        "colab": {
          "base_uri": "https://localhost:8080/"
        },
        "outputId": "1b569695-f9b0-4b22-ecad-79150504946b"
      },
      "source": [
        "inst_hard_1.context"
      ],
      "execution_count": null,
      "outputs": [
        {
          "output_type": "execute_result",
          "data": {
            "text/plain": [
              "[('clever', 'NNP'),\n",
              " ('white', 'NNP'),\n",
              " ('house', 'NNP'),\n",
              " ('``', '``'),\n",
              " ('spin', 'VB'),\n",
              " ('doctors', 'NNS'),\n",
              " (\"''\", \"''\"),\n",
              " ('are', 'VBP'),\n",
              " ('having', 'VBG'),\n",
              " ('a', 'DT'),\n",
              " ('hard', 'JJ'),\n",
              " ('time', 'NN'),\n",
              " ('helping', 'VBG'),\n",
              " ('president', 'NNP'),\n",
              " ('bush', 'NNP'),\n",
              " ('explain', 'VB'),\n",
              " ('away', 'RB'),\n",
              " ('the', 'DT'),\n",
              " ('economic', 'JJ'),\n",
              " ('bashing', 'NN'),\n",
              " ('that', 'IN'),\n",
              " ('low-and', 'JJ'),\n",
              " ('middle-income', 'JJ'),\n",
              " ('workers', 'NNS'),\n",
              " ('are', 'VBP'),\n",
              " ('taking', 'VBG'),\n",
              " ('these', 'DT'),\n",
              " ('days', 'NNS'),\n",
              " ('.', '.')]"
            ]
          },
          "metadata": {
            "tags": []
          },
          "execution_count": 128
        }
      ]
    },
    {
      "cell_type": "markdown",
      "metadata": {
        "id": "YoGMJrYYT7fJ"
      },
      "source": [
        "Suponiendo que el vocabulario usado para crear extraer las características es el siguiente:"
      ]
    },
    {
      "cell_type": "markdown",
      "metadata": {
        "id": "j7pP-SWDT7fM"
      },
      "source": [
        "`['time', 'would', 'get', 'work', 'find', 'make']`"
      ]
    },
    {
      "cell_type": "markdown",
      "metadata": {
        "id": "onRjfsLpT7fM"
      },
      "source": [
        "Entonces el vector de características extraídas para esa instancia sería:"
      ]
    },
    {
      "cell_type": "markdown",
      "metadata": {
        "id": "azWkXCExT7fM"
      },
      "source": [
        "`{'contains(time)': True, \n",
        "'contains(would)': False, \n",
        "'contains(get)': False, \n",
        "'contains(work)': False, \n",
        "'contains(find)': False, \n",
        "'contains(make)': False}`"
      ]
    },
    {
      "cell_type": "markdown",
      "metadata": {
        "id": "7Y_QvRbdT7fM"
      },
      "source": [
        "Este vector de características indica que en el contexto de la palabra ambigua aparece la palabra *«time»* y no aparecen las palabras *«would»*, *«get»*, *«work»*, *«find»* y *«make»*."
      ]
    },
    {
      "cell_type": "markdown",
      "metadata": {
        "id": "MqvzGwv_T7fN"
      },
      "source": [
        "#### 1. Construcción del vocabulario o bags of words. \n",
        "\n",
        "Como ya se ha indicado, para poder obtener el vector de características, se debe construir previamente un vocabulario. Para cada una de las palabras del vocabulario, se debe consultar si la palabra aparece en el contexto de la palabra ambigua. Si la palabra del vocabulario aparece en el contexto entonces en el vector de características aparecerá True para esa palabra y si no, False. "
      ]
    },
    {
      "cell_type": "markdown",
      "metadata": {
        "id": "-tGIYpFLT7fN"
      },
      "source": [
        "Tomemos como ejemplo un vocabulario creado sobre el que se ha construido el vector de características. Este vocabulario es `['time', 'would', 'get', 'work', 'find', 'make']`. Este vocabulario se usará posteriormente para construir el vector de características del ejemplo que usamos para darte una orientación."
      ]
    },
    {
      "cell_type": "markdown",
      "metadata": {
        "id": "enMFrDQoT7fN"
      },
      "source": [
        "- **¿Cómo construyo mi vocabulario o bags of words?** Lo que debes hacer para tu entrega de este laboratorio es utilizar como vocabulario las m palabras más frecuentes que aparecen en las instancias que conforman el conjunto de datos, es decir en las oraciones que contienen las palabras ambiguas y que forman parte del corpus. Entonces, para crear la **bag of words** (bolsa de palabras) debes extraer el conjunto de las n palabras más frecuentes. Para ello te puedes ayudar de la función `nltk.FreqDist()` que proporciona información sobre la distribución de frecuencias de las palabras que aparecen en un texto. "
      ]
    },
    {
      "cell_type": "markdown",
      "metadata": {
        "id": "qmORrc08T7fN"
      },
      "source": [
        "- Cuando obtengas las palabras más frecuentes, debes eliminar los signos que puntuación y las palabras vacías (aquellas sin significado como artículos, pronombres o preposiciones, las llamadas stop words en inglés). También debes eliminar las diferentes formas gramaticales de la palabra ambigua, por ejemplo, para desambiguar la palabra *«hard»* no tendría sentido utilizar la palabra *«harder»* ni la palabra *«hardest»*."
      ]
    },
    {
      "cell_type": "markdown",
      "metadata": {
        "id": "8Z_FcJj1T7fN"
      },
      "source": [
        "- Para la eliminación del conjunto de palabras no útiles del vocabulario se puede usar un código parecido al que se indica a continuación. Debes tener en cuenta que **en el código faltaría añadir las palabras que has identificado en la Parte 1** de este laboratorio como las diferentes formas gramaticales de las palabras ambiguas."
      ]
    },
    {
      "cell_type": "code",
      "metadata": {
        "id": "rfJps1x2T7fO",
        "colab": {
          "base_uri": "https://localhost:8080/"
        },
        "outputId": "45bff666-ff9f-4b5a-a562-44300537ee00"
      },
      "source": [
        "import nltk\n",
        "import string\n",
        "nltk.download('stopwords')\n",
        "from nltk.corpus import stopwords\n",
        "OTHER_WORDS = [\"''\", \"'d\", \"'ll\", \"'m\", \"'re\", \"'s\", \"'t\", \"'ve\", '--', '000', '1', '2', '3', '4', '5', '6', '8', '10', '15', '30', 'I', 'F', '``', 'also', \"don'\", 'n', 'one', 'said', 'say', 'says', 'u', 'us']\n",
        "STOPWORDS_SET = set(stopwords.words('english')).union(set(string.punctuation), set(OTHER_WORDS))"
      ],
      "execution_count": null,
      "outputs": [
        {
          "output_type": "stream",
          "text": [
            "[nltk_data] Downloading package stopwords to /root/nltk_data...\n",
            "[nltk_data]   Package stopwords is already up-to-date!\n"
          ],
          "name": "stdout"
        }
      ]
    },
    {
      "cell_type": "markdown",
      "metadata": {
        "id": "aSZJYtSeT7fO"
      },
      "source": [
        "- Ejemplo de vocabulario para un tamaño de 6. Por ejemplo, si se quiere entrenar un clasificador que permita identificar los diferentes sentidos de la palabra «hard» y se utilizan para entrenar y validar el modelo las instancias etiquetadas para esta palabra, la bolsa de palabras en el caso de considerar las seis palabras más frecuentes (m=6) sería la presentada anteriormente `['time', 'would', 'get', 'work', 'find', 'make']`."
      ]
    },
    {
      "cell_type": "markdown",
      "metadata": {
        "id": "NmsrbjNzT7fO"
      },
      "source": [
        "Método que devuelve el **vocabulario** formado por las `m` palabras más frecuentes en el contexto de una palabra ambigua a partir de un conjunto de instancias `instances` y el conjunto de palabras no útiles `stopwords` (Nota: Recuerda que se deben eliminar las diferentes formas gramaticales de la palabra ambigua):"
      ]
    },
    {
      "cell_type": "code",
      "metadata": {
        "id": "cjEAnQX-T7fO"
      },
      "source": [
        "def extract_vocab(instances, stopwords=STOPWORDS_SET, m=250):\n",
        "    \"\"\"\n",
        "    Given a list of senseval instances, return a list of the m most frequent words that\n",
        "    appears in its context (i.e., the sentence with the target word in), output is in order\n",
        "    of frequency.\n",
        "    \"\"\"\n",
        "    return [w for w,f in extract_vocab_frequency(instances,stopwords,m)]"
      ],
      "execution_count": null,
      "outputs": []
    },
    {
      "cell_type": "code",
      "metadata": {
        "id": "lZ6bVMRyT7fO"
      },
      "source": [
        "def extract_vocab_frequency(instances, stopwords=STOPWORDS_SET, m=250):\n",
        "    \"\"\"\n",
        "    Given a list of senseval instances, return a list of the m most frequent words that\n",
        "    appears in its context (i.e., the sentence with the target word in), output is in order\n",
        "    of frequency and includes also the number of instances in which that key appears in the\n",
        "    context of instances.\n",
        "    \"\"\"\n",
        "    fd = nltk.FreqDist()\n",
        "    for i in instances:\n",
        "        target = i.context[i.position:i.position+1][0][0]\n",
        "        words = (c[0] for c in i.context if not c[0] == target)\n",
        "        for word in set(words) - set(stopwords):\n",
        "            fd[word] += 1\n",
        "\n",
        "    return fd.most_common(m)"
      ],
      "execution_count": null,
      "outputs": []
    },
    {
      "cell_type": "markdown",
      "metadata": {
        "id": "Oq9qRNtfT7fP"
      },
      "source": [
        "Mostrar el vocabulario de tamaño de 6 para la palabra «hard», es decir el vocabulario creado usando las instancias de la a"
      ]
    },
    {
      "cell_type": "code",
      "metadata": {
        "id": "-AqK2I7LT7fP"
      },
      "source": [
        "vocab_6 = extract_vocab(instances_hard, STOPWORDS_SET, m=6)"
      ],
      "execution_count": null,
      "outputs": []
    },
    {
      "cell_type": "code",
      "metadata": {
        "id": "Pt0zNTtmT7fP",
        "colab": {
          "base_uri": "https://localhost:8080/"
        },
        "outputId": "ffdf3e1f-c87f-4438-8bd3-b813086f9a81"
      },
      "source": [
        "vocab_6"
      ],
      "execution_count": null,
      "outputs": [
        {
          "output_type": "execute_result",
          "data": {
            "text/plain": [
              "['time', 'would', 'get', 'work', 'find', 'make']"
            ]
          },
          "metadata": {
            "tags": []
          },
          "execution_count": 133
        }
      ]
    },
    {
      "cell_type": "markdown",
      "metadata": {
        "id": "Ku4L9UIWT7fP"
      },
      "source": [
        "#### 2. Construcción del conjunto de características basado en palabras vecinas. "
      ]
    },
    {
      "cell_type": "markdown",
      "metadata": {
        "id": "RevFFmj8T7fP"
      },
      "source": [
        "Utiliza un diccionario en Python para guardar el conjunto de características. La clave del diccionario serán las palabras del vocabulario y el valor debe ser un booleano para indicar la aparición o no de las palabras en el contexto. Por ejemplo, en el vector de características `{'contains(time)': True, 'contains(would)': False, 'contains(get)': False, 'contains(work)': False, 'contains(find)': False, 'contains(make)': False}` una de las claves del diccionario es `'contains(time)'` y su valor es `True`  lo que indica que en el contexto de la palabra ambigua aparece la palabra *«time»*."
      ]
    },
    {
      "cell_type": "markdown",
      "metadata": {
        "id": "xsa6bfMBT7fP"
      },
      "source": [
        "- Debes mostrar el vector de características resultante para una de las instancias del corpus."
      ]
    },
    {
      "cell_type": "markdown",
      "metadata": {
        "id": "5aaBcrFkT7fP"
      },
      "source": [
        "- **Importante:** En el cómputo del vector de características basado en las palabras vecinas debes utilizar como contexto la oración completa donde aparece la palabra ambigua. Es decir, todas las palabras que forman la oración guardada en el campo  `context` de la instancia."
      ]
    },
    {
      "cell_type": "markdown",
      "metadata": {
        "id": "Bj0fVlAbT7fQ"
      },
      "source": [
        "Método que devuelve el conjunto de características basado en palabras vecinas para una instancia `instance` a partir de un vocabulario `vocab` (Nota: el parámetro `dist` no debes usarlo):"
      ]
    },
    {
      "cell_type": "code",
      "metadata": {
        "id": "0kWpbT7zT7fQ"
      },
      "source": [
        "def wsd_caracteristicas_palabras_vecinas(instance, vocab, dist=2):\n",
        "    \"\"\"\n",
        "    Create a featureset where every key returns False unless it occurs in the\n",
        "    instance's context\n",
        "    \"\"\"\n",
        "    features = {}\n",
        "    try:\n",
        "        for w in vocab: features[f\"contains({w})\"] = (w in [tp[0] for tp in instance.context])\n",
        "    except ValueError:\n",
        "        pass\n",
        "    return features"
      ],
      "execution_count": null,
      "outputs": []
    },
    {
      "cell_type": "markdown",
      "metadata": {
        "id": "K2R7_HYQT7fQ"
      },
      "source": [
        "Mostrar el vector de características basado en palabras vecinas para una de las instancias del corpus usando el vocabulario de seis palabras calculado previamente:"
      ]
    },
    {
      "cell_type": "code",
      "metadata": {
        "id": "VIe-lCpWT7fQ",
        "colab": {
          "base_uri": "https://localhost:8080/"
        },
        "outputId": "b8e6ebd3-245a-43f6-953b-b786c49e0aad"
      },
      "source": [
        "wsd_caracteristicas_palabras_vecinas(inst_hard_1, vocab_6, 0)"
      ],
      "execution_count": null,
      "outputs": [
        {
          "output_type": "execute_result",
          "data": {
            "text/plain": [
              "{'contains(find)': False,\n",
              " 'contains(get)': False,\n",
              " 'contains(make)': False,\n",
              " 'contains(time)': True,\n",
              " 'contains(work)': False,\n",
              " 'contains(would)': False}"
            ]
          },
          "metadata": {
            "tags": []
          },
          "execution_count": 135
        }
      ]
    },
    {
      "cell_type": "markdown",
      "metadata": {
        "id": "GEgDchyBT7fQ"
      },
      "source": [
        "### Extracción de características basada en características de colocación"
      ]
    },
    {
      "cell_type": "markdown",
      "metadata": {
        "id": "R8jPTMi3T7fQ"
      },
      "source": [
        "Debes extraer también un **conjunto de características de colocación**. Para una instancia del corpus, debes desarrollar el código que sea capaz de extraer el vector de características formado por la secuencia de n palabras que ocurren antes de la palabra ambigua y la secuencia de n palabras que ocurren después de la palabra ambigua, los llamados n-gramas."
      ]
    },
    {
      "cell_type": "markdown",
      "metadata": {
        "id": "FYQKq7KyT7fQ"
      },
      "source": [
        "Para una instancia de la palaba ambigua «hard» su contexto se muestra a continuación:"
      ]
    },
    {
      "cell_type": "code",
      "metadata": {
        "id": "Vbt7isXDT7fR"
      },
      "source": [
        "inst_hard_2737 = instances_hard[2737]"
      ],
      "execution_count": null,
      "outputs": []
    },
    {
      "cell_type": "code",
      "metadata": {
        "id": "d3v_wLbRT7fR",
        "colab": {
          "base_uri": "https://localhost:8080/"
        },
        "outputId": "3591a02e-b3ec-40cd-cb7c-ebb0e49a4977"
      },
      "source": [
        "inst_hard_2737.context"
      ],
      "execution_count": null,
      "outputs": [
        {
          "output_type": "execute_result",
          "data": {
            "text/plain": [
              "[('``', '``'),\n",
              " ('it', 'PRP'),\n",
              " (\"'s\", 'VBZ'),\n",
              " ('a', 'DT'),\n",
              " ('very', 'RB'),\n",
              " ('interesting', 'JJ'),\n",
              " ('place', 'NN'),\n",
              " ('to', 'TO'),\n",
              " ('work', 'VB'),\n",
              " (',', ','),\n",
              " ('but', 'CC'),\n",
              " ('i', 'PRP'),\n",
              " ('can', 'MD'),\n",
              " ('see', 'VB'),\n",
              " ('why', 'WRB'),\n",
              " ('some', 'DT'),\n",
              " ('people', 'NNS'),\n",
              " ('have', 'VBP'),\n",
              " ('a', 'DT'),\n",
              " ('hard', 'JJ'),\n",
              " ('time', 'NN'),\n",
              " ('imagining', 'VBG'),\n",
              " ('what', 'WP'),\n",
              " ('it', 'PRP'),\n",
              " (\"'s\", 'VBZ'),\n",
              " ('like', 'IN'),\n",
              " (',', ','),\n",
              " ('\"', '\"'),\n",
              " ('says', 'VBZ'),\n",
              " ('nate', 'NNP'),\n",
              " ('gossett', 'NNP'),\n",
              " ('.', '.')]"
            ]
          },
          "metadata": {
            "tags": []
          },
          "execution_count": 137
        }
      ]
    },
    {
      "cell_type": "markdown",
      "metadata": {
        "id": "nKU1zfu5T7fR"
      },
      "source": [
        "Entonces el vector de características de colocación para el bigrama anterior y posterior sería:"
      ]
    },
    {
      "cell_type": "markdown",
      "metadata": {
        "id": "x1jTTS9kT7fR"
      },
      "source": [
        "`{'previous(have a)': True, 'next(time imagining)': True}` "
      ]
    },
    {
      "cell_type": "markdown",
      "metadata": {
        "id": "sEGHyZ5cT7fR"
      },
      "source": [
        "Este vector de características indica que antes de la palabra ambigua se encuentran las palabras *«have a»* y después de la palabra ambigua las palabras *«time imagining»*. "
      ]
    },
    {
      "cell_type": "markdown",
      "metadata": {
        "id": "LXQ0jdYCT7fR"
      },
      "source": [
        "- **¿Cómo construyo mi conjunto y que n utilizo?** Utiliza un diccionario en Python para guardar el conjunto de características, la clave del diccionario debe indicar la secuencia de palabras de contexto y si aparecen antes o después de la palabra ambigua y el valor asociado a la clave debe ser un booleano verdadero. Usaremos **n=2**."
      ]
    },
    {
      "cell_type": "markdown",
      "metadata": {
        "id": "qKEDOkF-T7fS"
      },
      "source": [
        "- Por ejemplo, en el vector de características `{'previous(have a)': True, 'next(time imagining)': True}` una de las claves del diccionario es `'previous(have a)'` y su valor es `True` lo que indica que antes de la palabra ambigua se encuentran las palabras *«have a»*. En este caso, al tener secuencias de dos palabras (*n=2*), se están considerando bigramas y la ventana tendría tamaño cinco (*2n+1*). Por lo tanto, si la palabra ambigua es *«hard» en el contexto guardado en el campo context de la instancia, aparece la siguiente parte de la frase «have a hard time imagining»."
      ]
    },
    {
      "cell_type": "markdown",
      "metadata": {
        "id": "yENcvVTlT7fS"
      },
      "source": [
        "- Debes mostrar el vector de características resultante para una de las instancias del corpus."
      ]
    },
    {
      "cell_type": "markdown",
      "metadata": {
        "id": "s9gRJxFUT7fS"
      },
      "source": [
        "- **Importante:** Debes tener en cuenta los posibles casos en los que la palabra ambigua aparezca al principio o final de la frase, ya que en esas instancias no vas a poder obtener una secuencia de palabras de longitud n. Por ejemplo, para la instancia cuyo contexto es: `[('some', 'DT'), ('hard', 'JJ'), ('choices', 'NNS'), ('had', 'VBD'), ('to', 'TO'), ('be', 'VB'), ('made', 'VBN'), …]` si n=2 deberías obtener el siguiente vector de características: `{'previous(some)': True, 'next(choices had)': True}`."
      ]
    },
    {
      "cell_type": "markdown",
      "metadata": {
        "id": "8f-QktmyT7fS"
      },
      "source": [
        "- **Nota:** aunque no es imprescindible para realizar esta actividad de laboratorio, puedes utilizar las funcionalidades para trabajar con n-gramas que ofrece NLTK. Estas se pueden importar utilizando el siguiente comando:\n",
        "\n",
        "> *from nltk import ngrams*"
      ]
    },
    {
      "cell_type": "markdown",
      "metadata": {
        "id": "2CQuaxwrT7fS"
      },
      "source": [
        "Método que devuelve el conjunto de características de colocación para una instancia `instance` usando los n-gramas anterior y posterior donde la longitud de secuencia es de `dist` palabras (Nota: el parámetro `vocab` no debes usarlo):"
      ]
    },
    {
      "cell_type": "code",
      "metadata": {
        "colab": {
          "base_uri": "https://localhost:8080/"
        },
        "id": "jqXcIdc8Q6lT",
        "outputId": "4d9805b9-f5de-416d-f294-3f1a41520309"
      },
      "source": [
        "from nltk import ngrams\n",
        "\n",
        "ngram = ngrams([tp[0] for tp in inst_hard_2737.context],3)\n",
        "\n",
        "#for grams in ngram:\n",
        "#  print (grams)\n",
        "\n",
        "print(list(ngram))\n"
      ],
      "execution_count": null,
      "outputs": [
        {
          "output_type": "stream",
          "text": [
            "[('``', 'it', \"'s\"), ('it', \"'s\", 'a'), (\"'s\", 'a', 'very'), ('a', 'very', 'interesting'), ('very', 'interesting', 'place'), ('interesting', 'place', 'to'), ('place', 'to', 'work'), ('to', 'work', ','), ('work', ',', 'but'), (',', 'but', 'i'), ('but', 'i', 'can'), ('i', 'can', 'see'), ('can', 'see', 'why'), ('see', 'why', 'some'), ('why', 'some', 'people'), ('some', 'people', 'have'), ('people', 'have', 'a'), ('have', 'a', 'hard'), ('a', 'hard', 'time'), ('hard', 'time', 'imagining'), ('time', 'imagining', 'what'), ('imagining', 'what', 'it'), ('what', 'it', \"'s\"), ('it', \"'s\", 'like'), (\"'s\", 'like', ','), ('like', ',', '\"'), (',', '\"', 'says'), ('\"', 'says', 'nate'), ('says', 'nate', 'gossett'), ('nate', 'gossett', '.')]\n"
          ],
          "name": "stdout"
        }
      ]
    },
    {
      "cell_type": "code",
      "metadata": {
        "id": "tQkCOLxbT7fS"
      },
      "source": [
        "from nltk import ngrams\n",
        "\n",
        "def wsd_caracteristicas_colocacion(instance, vocab, dist=2):\n",
        "    features = {}\n",
        "    p = instance.position\n",
        "    con = instance.context\n",
        "       \n",
        "    try:\n",
        "\n",
        "      if p >= dist:\n",
        "        features[f\"previous({' '.join(w1 for (w1,t1) in con[p-dist:p])})\"] = True\n",
        "      elif p == 1:\n",
        "        features[f\"previous({' '.join(w2 for (w2,t2) in con[p-1:p])})\"] = True\n",
        "      elif p == 0:\n",
        "        features[f\"previous( )\"] = True\n",
        "\n",
        "      if p < len(con) - dist:\n",
        "        features[f\"next({' '.join(w1 for (w1,t1) in con[p+1:p+dist+1])})\"] = True\n",
        "      elif p == len(con) - dist:\n",
        "        features[f\"next({' '.join(w2 for (w2,t2) in con[p+1:p+2])})\"] = True\n",
        "      elif p == len(con) - dist + 1:\n",
        "        features[f\"next( )\"] = True\n",
        "\n",
        "    except ValueError:\n",
        "        pass      \n",
        "    return features"
      ],
      "execution_count": null,
      "outputs": []
    },
    {
      "cell_type": "markdown",
      "metadata": {
        "id": "ohTm9gL0T7fT"
      },
      "source": [
        "Mostrar el vector de características de colocación para una de las instancias del corpus usando n=2:"
      ]
    },
    {
      "cell_type": "code",
      "metadata": {
        "id": "itYv1mGET7fT",
        "colab": {
          "base_uri": "https://localhost:8080/"
        },
        "outputId": "797964d9-2c47-452e-81a0-98d16587ab74"
      },
      "source": [
        "wsd_caracteristicas_colocacion(inst_hard_2737, 0, 2)"
      ],
      "execution_count": null,
      "outputs": [
        {
          "output_type": "execute_result",
          "data": {
            "text/plain": [
              "{'next(time imagining)': True, 'previous(have a)': True}"
            ]
          },
          "metadata": {
            "tags": []
          },
          "execution_count": 141
        }
      ]
    },
    {
      "cell_type": "markdown",
      "metadata": {
        "id": "y-uAj4pWT7fT"
      },
      "source": [
        "### Extracción de características por el método de emmbedings (Wordvectors) (Método propuesto)\n",
        "\n",
        "Se propone como tercer método el uso de wordvectos para la extracción de catacterísticas. Este método hace uso de las representaciones vectoriales mediante métodos no supervisados que exploran el contexto de la palabra. La codificación de vectores de palabras se puede utilizar mediante la librería Gensim con el método Word2Vec. El siguiente es el ejemplo de implementación de la extacción de características usando word2vec\n"
      ]
    },
    {
      "cell_type": "code",
      "metadata": {
        "id": "epWyglWaXnRX"
      },
      "source": [
        "import gensim\n",
        "from gensim.models import Word2Vec\n",
        "\n",
        "# Create Skip Gram model\n",
        "\n",
        "def wsd_caracteristicas_wordvectors(instance, dist=2, window=2 ):\n",
        "    features = {}\n",
        "    p = instance.position\n",
        "    con = instance.context\n",
        "    model = gensim.models.Word2Vec([tp[0] for tp in con], min_count = 1, size = dist,\n",
        "                                             window = window, sg = 1)\n",
        "\n",
        "    return model "
      ],
      "execution_count": null,
      "outputs": []
    },
    {
      "cell_type": "markdown",
      "metadata": {
        "id": "u0NQ1lRxT7fT"
      },
      "source": [
        "# **Parte 3: Entrenamiento de clasificadores**"
      ]
    },
    {
      "cell_type": "code",
      "metadata": {
        "id": "iB_9ahzPT7fU"
      },
      "source": [
        "from nltk.classify import accuracy, NaiveBayesClassifier, DecisionTreeClassifier\n",
        "from nltk import ConfusionMatrix"
      ],
      "execution_count": null,
      "outputs": []
    },
    {
      "cell_type": "markdown",
      "metadata": {
        "id": "MYZn383BT7fU"
      },
      "source": [
        "Una vez hayas importado los paquetes anteriores, para entrenar un clasificador Naïve Bayes puedes usar el comando `NaiveBayesClassifier.train()` y para evaluarlo `accuracy()`. Además, puedes utilizar el clasificador entrenado para clasificar una instancia utilizando su método `classify()`. Por último, puedes obtener la matriz de confusión utilizando el comando `nltk.ConfusionMatrix()`."
      ]
    },
    {
      "cell_type": "markdown",
      "metadata": {
        "id": "JtcVaraST7fU"
      },
      "source": [
        "Para realizar esta parte del laboratorio debes seguir los siguientes pasos:"
      ]
    },
    {
      "cell_type": "markdown",
      "metadata": {
        "id": "f63TKMi5T7fU"
      },
      "source": [
        "### 1.\tEntrenamiento de dos clasificadores para la palabra «hard». "
      ]
    },
    {
      "cell_type": "markdown",
      "metadata": {
        "id": "xqerX5-DT7fU"
      },
      "source": [
        "Debes entrenar dos clasificadores que permitan desambiguar la palabra «hard», es decir, que debes entrenar los clasificadores utilizando las instancias disponibles en el corpus Senseval 2 para esta palabra ambigua."
      ]
    },
    {
      "cell_type": "markdown",
      "metadata": {
        "id": "Lp5bdWvUT7fU"
      },
      "source": [
        "- **Conjuntos de entrenamiento y test.** Para entrenar y validar divide las instancias disponibles en una proporción del 80-20 % y recuerda que en el conjunto de datos de entrenamiento deben aparecer instancias de todas las clases. "
      ]
    },
    {
      "cell_type": "markdown",
      "metadata": {
        "id": "j3-1jdGnT7fU"
      },
      "source": [
        "- **Clasificador basado en las palabras vecinas.** Con el conjunto de datos de entrenamiento, entrena un clasificador para «hard» que use como características el conjunto basado en las **palabras vecinas** cuyo código has implementado en la parte 2 de este laboratorio. Para definir el vocabulario utiliza las **250** palabras más frecuentes (**m=250**). "
      ]
    },
    {
      "cell_type": "markdown",
      "metadata": {
        "id": "xzVAJTB8T7fV"
      },
      "source": [
        "- **Clasificador basado en características de colocación.** Con el conjunto de datos de entrenamiento, entrena un clasificador para «hard» que use como conjunto de características las de colocación cuyo código has implementado en la parte 2 de este laboratorio. Para definir la **ventana de contexto** utiliza la secuencia de dos palabras que ocurren antes de la palabra ambigua y la secuencia de dos palabras que ocurren después de esta **(n=2)**."
      ]
    },
    {
      "cell_type": "code",
      "metadata": {
        "id": "4JoANswHT7fV"
      },
      "source": [
        "import random\n",
        "import matplotlib.pyplot as plt  \n",
        "from sklearn.metrics import confusion_matrix, ConfusionMatrixDisplay\n",
        "import seaborn as sns\n",
        "import numpy as np\n",
        "from sklearn.metrics import f1_score, accuracy_score\n",
        "import itertools"
      ],
      "execution_count": null,
      "outputs": []
    },
    {
      "cell_type": "code",
      "metadata": {
        "id": "iaufCE16fZCf"
      },
      "source": [
        "# Función auxiliar para imprimir la matriz de confusion y las métricas\n",
        "\n",
        "def plot_confusion_matrix_local(y_test, y_predicted,\n",
        "                          target_names,\n",
        "                          title='Confusion matrix',\n",
        "                          cmap=None,\n",
        "                          normalize=True):\n",
        "\n",
        "    # Calculate metrics\n",
        "    accuracy = accuracy_score(y_test, y_predicted)\n",
        "    f1score =  np.array2string(f1_score(y_test, y_predicted, average=None), precision=2, separator=',',  suppress_small=True)\n",
        "    misclass = 1 - accuracy\n",
        "    cm = confusion_matrix(y_test, y_predicted)\n",
        "\n",
        "    if cmap is None:\n",
        "        cmap = plt.get_cmap('Blues')\n",
        "\n",
        "    plt.figure(figsize=(4, 4))\n",
        "    plt.imshow(cm, interpolation='nearest', cmap=cmap)\n",
        "    plt.title(title)\n",
        "\n",
        "    if target_names is not None:\n",
        "        tick_marks = np.arange(len(target_names))\n",
        "        plt.xticks(tick_marks, target_names, rotation=45)\n",
        "        plt.yticks(tick_marks, target_names)\n",
        "\n",
        "    if normalize:\n",
        "        cm = cm.astype('float') / cm.sum(axis=1)[:, np.newaxis]\n",
        "\n",
        "    thresh = cm.max() / 1.5 if normalize else cm.max() / 2\n",
        "    for i, j in itertools.product(range(cm.shape[0]), range(cm.shape[1])):\n",
        "        if normalize:\n",
        "            plt.text(j, i, \"{:0.4f}\".format(cm[i, j]),\n",
        "                     horizontalalignment=\"center\",\n",
        "                     color=\"white\" if cm[i, j] > thresh else \"black\")\n",
        "        else:\n",
        "            plt.text(j, i, \"{:,}\".format(cm[i, j]),\n",
        "                     horizontalalignment=\"center\",\n",
        "                     color=\"white\" if cm[i, j] > thresh else \"black\")\n",
        "\n",
        "    plt.tight_layout()\n",
        "    plt.ylabel('True label')\n",
        "    plt.xlabel(f\"Predicted label\\n\\nAccuracy={float('{:.2f}'.format(accuracy))}\\nMisclass={float('{:.2f}'.format(misclass))}\\nF1-Score={f1score}\")\n",
        "    plt.show()"
      ],
      "execution_count": null,
      "outputs": []
    },
    {
      "cell_type": "code",
      "metadata": {
        "id": "LHfd0NXeT7fV"
      },
      "source": [
        "def wsd_clasificador(nltk_classifier, word, features, stopwords_list = STOPWORDS_SET, number=250, distance=2, print_metrics=True, errors=False, confusion_matrix=False):\n",
        "    \"\"\"\n",
        "    This function takes as arguments:\n",
        "        a target word from senseval2;\n",
        "        a feature set (this can be wsd_caracteristicas_palabras_vecinas or wsd_caracteristicas_colocacion);\n",
        "        a list of stopwords \n",
        "        a number (defaults to 250), which determines for wsd_caracteristicas_palabras_vecinas the number of\n",
        "            most frequent words within the context of a given sense that you use to classify examples;\n",
        "        a distance (defaults to 2) which determines the size of the window for wsd_caracteristicas_colocacion;\n",
        "        errors (defaults to false), which if set to True prints the errors;\n",
        "        confusion_matrix (defaults to False), which if set to True prints a confusion matrix.\n",
        "\n",
        "    Calling this function splits the senseval data for the word into a training set and a test set (the way it does\n",
        "    this is the same for each call of this function, because the argument to random.seed is specified,\n",
        "    but removing this argument would make the training and testing sets different each time you build a classifier).\n",
        "\n",
        "    It then trains the trainer on the training set to create a classifier that performs WSD on the word,\n",
        "    using features (with number or distance where relevant).\n",
        "\n",
        "    It then tests the classifier on the test set, and prints its accuracy on that set.\n",
        "\n",
        "    If error==True, then the errors of the classifier over the test set are printed out.\n",
        "    For each error four things are recorded: (i) the example number within the test data (this is simply the index of the\n",
        "    example within the list test_data); (ii) the sentence that the target word appeared in, (iii) the\n",
        "    (incorrect) derived label, and (iv) the good label.\n",
        "\n",
        "    If confusion_matrix==True, then calling this function prints out a confusion matrix, where each cell [i,j]\n",
        "    indicates how often label j was predicted when the correct label was i (so the diagonal entries indicate labels\n",
        "    that were correctly predicted).\n",
        "    \"\"\"\n",
        "    \n",
        "    events = [(i, i.senses[0]) for i in senseval.instances(word)]\n",
        "    senses = list(set(l for (i, l) in events))\n",
        "    instances = [i for (i, l) in events]\n",
        " \n",
        "    # Extract the vocabulary\n",
        "    vocab = extract_vocab(instances, stopwords=stopwords_list, m=number)\n",
        "\n",
        "    # Split the instances into a training and test set    \n",
        "    n = len(events)\n",
        "    random.seed(5444522)\n",
        "    random.shuffle(events)\n",
        "    training_data = events[:int(0.8 * n)]\n",
        "    test_data = events[int(0.8 * n):n]\n",
        "\n",
        "    # Train classifier\n",
        "    classifier = nltk_classifier([(features(i, vocab, distance), label) for (i, label) in training_data]) \n",
        "    \n",
        "    #NaiveBayesClassifier.train   \n",
        "     \n",
        "    good = [label for (i, label) in test_data]\n",
        "    derived = [classifier.classify(features(i,vocab)) for (i,label) in test_data]\n",
        "    \n",
        "    if print_metrics==True:\n",
        "      print(\"MODEL METRICS: \")\n",
        "      print(f\"ACCURACY: {accuracy_score(good, derived)}\")\n",
        "      print(f\"F1-SCORE: {f1_score(good, derived, average=None)}\")\n",
        "\n",
        "    if errors==True:\n",
        "                 \n",
        "        errors = []\n",
        "        for (i, label) in test_data:\n",
        "            # Classify the instance\n",
        "            guess = classifier.classify(features(i, vocab, distance))\n",
        "            if guess != label:\n",
        "                con =  i.context\n",
        "                position = i.position\n",
        "                item_number = str(test_data.index((i, label)))\n",
        "                word_list = []\n",
        "                for (word, tag) in con:\n",
        "                    word_list.append(word)\n",
        "                hard_highlighted = word_list[position].upper()\n",
        "                word_list_highlighted = word_list[0:position] + [hard_highlighted] + word_list[position+1:]\n",
        "                sentence = ' '.join(word_list_highlighted)\n",
        "                errors.append([item_number, sentence, guess,label])\n",
        "        error_number = len(errors)\n",
        "        \n",
        "        print('\\n' + '\\n' + 'There are ' + str(error_number) + ' errors!' + '\\n' + '----------------------------' + '\\n' + '\\n')\n",
        "        \n",
        "        for error in errors:\n",
        "            print(str(errors.index(error)+1) +') ' + 'example number: ' + error[0] + '\\n' + '    sentence: ' + error[1] + '\\n' + '    guess: ' + error[2] + ';  label: ' + error[3] + '\\n' + '\\n') \n",
        "\n",
        "    if confusion_matrix==True:\n",
        "\n",
        "        # Get confusion matrix\n",
        "        cm = ConfusionMatrix(good, derived)\n",
        "        plot_confusion_matrix_local(good, derived, \n",
        "                                    target_names=list(cm._indices.keys()),\n",
        "                                    title='Matriz de confusión',\n",
        "                                    cmap=\"Blues\",\n",
        "                                    normalize=False)\n",
        "\n",
        "    return classifier"
      ],
      "execution_count": null,
      "outputs": []
    },
    {
      "cell_type": "markdown",
      "metadata": {
        "id": "LWePsS5TT7fW"
      },
      "source": [
        "### 2.\tValidación de los clasificadores para la palabra «hard».  "
      ]
    },
    {
      "cell_type": "code",
      "metadata": {
        "id": "QWz_URI5T7fW",
        "colab": {
          "base_uri": "https://localhost:8080/",
          "height": 358
        },
        "outputId": "0b7c06ea-c3b4-4866-edd7-96b64f31f803"
      },
      "source": [
        "clasificador_hard_vecinas = wsd_clasificador(NaiveBayesClassifier.train,'hard.pos', wsd_caracteristicas_palabras_vecinas, print_metrics=False, number=250, errors=False, confusion_matrix=True)"
      ],
      "execution_count": null,
      "outputs": [
        {
          "output_type": "display_data",
          "data": {
            "image/png": "[encoded data removed]",
            "text/plain": [
              "<Figure size 288x288 with 1 Axes>"
            ]
          },
          "metadata": {
            "tags": [],
            "needs_background": "light"
          }
        }
      ]
    },
    {
      "cell_type": "code",
      "metadata": {
        "id": "gHFLp5HbT7fX",
        "colab": {
          "base_uri": "https://localhost:8080/",
          "height": 358
        },
        "outputId": "95b3b4c6-43da-4f3d-d8ed-d93121785eee"
      },
      "source": [
        "clasificador_hard_colocacion = wsd_clasificador(NaiveBayesClassifier.train,'hard.pos', wsd_caracteristicas_colocacion, distance=2, print_metrics=False, errors=False, confusion_matrix=True)"
      ],
      "execution_count": null,
      "outputs": [
        {
          "output_type": "display_data",
          "data": {
            "image/png": "[encoded data removed]",
            "text/plain": [
              "<Figure size 288x288 with 1 Axes>"
            ]
          },
          "metadata": {
            "tags": [],
            "needs_background": "light"
          }
        }
      ]
    },
    {
      "cell_type": "markdown",
      "metadata": {
        "id": "F4BtSGv9wol-"
      },
      "source": [
        "Se agregó la prueba del clasificador usando arboles de decisión mediante la clase **DecisionTreeClassifier** del clasificador classify de NLTK."
      ]
    },
    {
      "cell_type": "code",
      "metadata": {
        "colab": {
          "base_uri": "https://localhost:8080/",
          "height": 358
        },
        "id": "VLZhGXiWwnk7",
        "outputId": "1844ffcc-7c86-4efd-c9e6-e9d0f2a6c6eb"
      },
      "source": [
        "clasificador_hard_vecinas = wsd_clasificador(DecisionTreeClassifier.train,'hard.pos', wsd_caracteristicas_palabras_vecinas, print_metrics=False, number=250, errors=False, confusion_matrix=True)"
      ],
      "execution_count": null,
      "outputs": [
        {
          "output_type": "display_data",
          "data": {
            "image/png": "[encoded data removed]",
            "text/plain": [
              "<Figure size 288x288 with 1 Axes>"
            ]
          },
          "metadata": {
            "tags": [],
            "needs_background": "light"
          }
        }
      ]
    },
    {
      "cell_type": "code",
      "metadata": {
        "colab": {
          "base_uri": "https://localhost:8080/",
          "height": 358
        },
        "id": "U6lnl7SbxuiT",
        "outputId": "7338e002-4717-4757-c2be-0b39b0c22559"
      },
      "source": [
        "clasificador_hard_colocacion = wsd_clasificador(DecisionTreeClassifier.train,'hard.pos', wsd_caracteristicas_colocacion, distance=2, print_metrics=False, errors=False, confusion_matrix=True)"
      ],
      "execution_count": null,
      "outputs": [
        {
          "output_type": "display_data",
          "data": {
            "image/png": "[encoded data removed]",
            "text/plain": [
              "<Figure size 288x288 with 1 Axes>"
            ]
          },
          "metadata": {
            "tags": [],
            "needs_background": "light"
          }
        }
      ]
    },
    {
      "cell_type": "markdown",
      "metadata": {
        "id": "CoP_q5RMT7fX"
      },
      "source": [
        "Comparación de resulados:"
      ]
    },
    {
      "cell_type": "markdown",
      "metadata": {
        "id": "7NnNxAGZT7fX"
      },
      "source": [
        "Se elabora una matriz de comparación con los resultados obtenidos para los calsificadodores implementados y los modelos de extracción de características:\n",
        "\n",
        "| Clasificador  | Extracción de   características | F1-SCORE |       |       | ACCURACY |\n",
        "|---------------|---------------------------------|:--------:|:-----:|:-----:|:--------:|\n",
        "|               |                                 |   HARD1  | HARD2 | HARD3 |          |\n",
        "| Bayes         | Palabras vecinas                |   0.92   |  0.55 |  0.48 |   0.86   |\n",
        "| Bayes         | Colocacion                      |   0.94   |  0.72 |  0.52 |   0.89   |\n",
        "| Decision Tree | Palabras vecinas                |   0.92   |  0.58 |  0.46 |   0.87   |\n",
        "| Decision Tree | Colocacion                      |   0.93   |  0.64 |  0.41 |   0.88   |\n",
        "\n",
        "\n",
        "En la tabla se comparan los valores de **F1-score** y **Accuracy**. Debido a que se presenta un desbalanceo de clases (El sentido HARD1 tiene más ejemplos que los sentidos HARD2 y HARD3 en el dataset). Para estos casos se recomienda aplicar la métrica de F1-Score para mejorar la discrimación por clase. Teniendo en cuenta estas dos métricas podemos observar que el **clasificador de colocación de Bayes presente un mejor desempeño en F1-score y accuracy.**"
      ]
    },
    {
      "cell_type": "markdown",
      "metadata": {
        "id": "ETQTUSJwT7fX"
      },
      "source": [
        "Teniendo en cuenta los resultados anteriores, podemos observar que para el sentido **HARD3** se tienen los valores más bajos de F1-SCORE lo que indica que este sentidos presenta el mayor número de errores del clasificador.\n"
      ]
    },
    {
      "cell_type": "markdown",
      "metadata": {
        "id": "M9t1ElJuT7fX"
      },
      "source": [
        "Para mejorar el desempeño de los clasificadores para el dataset utilizado se han identificado las siguientes optimizaciones aplicables:\n",
        "\n",
        "*   Mejorar el balance de clases por ejemplo utilizando alguno de los siguientes métodos.\n",
        "  - Tratando de utilizar un dataset etiquetados más amplio que tenga más ejemplos para los sentidos HARD2 y HARD3\n",
        "  - Aplicar la métrica de F1-Score para mejorar el entrenamiento del clasificador, penalizando las clases con mucha frecuencia en pro de las clases con menor frecuencia.\n",
        "  - Utilizar un modelo de muestreo selectivo sobre cada clase para obtener submuestras con mejor balance.\n",
        "\n",
        "* Utilizar un modelo de extracción de características más avanzado por ejemplo usando representaciones vectoriales o con modelos de lenguaje pre-entrenados.\n",
        "\n",
        "* Utilizar clasificadores más robustos como redes neuronales o xboosting que puedan capturar una mayor especificidad de las clases menos dominantes.\n",
        "\n",
        "\n",
        "\n"
      ]
    },
    {
      "cell_type": "markdown",
      "metadata": {
        "id": "VMIyoqdWT7fY"
      },
      "source": [
        "### 3.\tInstancias clasificadas incorrectamente para «hard».   "
      ]
    },
    {
      "cell_type": "code",
      "metadata": {
        "scrolled": true,
        "id": "F60etK-kT7fY",
        "colab": {
          "base_uri": "https://localhost:8080/"
        },
        "outputId": "1d02491f-592f-47e8-8e9b-a8bf126222e2"
      },
      "source": [
        "clasificador_hard_colocacion = wsd_clasificador(NaiveBayesClassifier.train, 'hard.pos', wsd_caracteristicas_colocacion, distance=2, print_metrics=False, errors=True, confusion_matrix=False)"
      ],
      "execution_count": null,
      "outputs": [
        {
          "output_type": "stream",
          "text": [
            "\n",
            "\n",
            "There are 92 errors!\n",
            "----------------------------\n",
            "\n",
            "\n",
            "1) example number: 5\n",
            "    sentence: once thickened , the polenta might be enhanced with salt , pepper , a ground HARD cheese such as asiago or romano and seasoned with fresh herbs , such as chopped basil , sage or oregano .\n",
            "    guess: HARD1;  label: HARD3\n",
            "\n",
            "\n",
            "2) example number: 6\n",
            "    sentence: in fine , dry weather this mode of travel was not unpleasant , when compared with the heavy vehicles of europe and the HARD english turnpikes ; but when spring rains drew the frost from the ground the roads became nearly impassable , and in winter , when the rivers froze , a serious peril was added , for the susquehanna or the north river at paulus hook must be crossed in an open boat , -- an affair of hours at best , sometimes leading to fatal accidents .\n",
            "    guess: HARD1;  label: HARD3\n",
            "\n",
            "\n",
            "3) example number: 11\n",
            "    sentence: the futon is good for you , i insist , because it 's good for the back when the bed is HARD and firm .\n",
            "    guess: HARD1;  label: HARD3\n",
            "\n",
            "\n",
            "4) example number: 22\n",
            "    sentence: it is tempting to believe , as so many americans do , that state legislatures live by ronald reagan 's maxim : `` i know that HARD work never killed anyone , but i figure why take the chance ? ''\n",
            "    guess: HARD1;  label: HARD2\n",
            "\n",
            "\n",
            "5) example number: 25\n",
            "    sentence: amid HARD feelings over the failed merger , legal squabbling began over disney 's use of henson characters at disney theme parks .\n",
            "    guess: HARD1;  label: HARD2\n",
            "\n",
            "\n",
            "6) example number: 26\n",
            "    sentence: now we were sleeping on a bed that was so HARD and so flat that i felt as if staked out for birds of prey in the desert .\n",
            "    guess: HARD1;  label: HARD3\n",
            "\n",
            "\n",
            "7) example number: 34\n",
            "    sentence: he said democrats are playing `` straight politics , HARD ball , \" by showing no willingness to find middle ground on the matter .\n",
            "    guess: HARD1;  label: HARD2\n",
            "\n",
            "\n",
            "8) example number: 42\n",
            "    sentence: the intimal surface of the aorta was covered with confluent , yellow-brown , HARD , friable plaques along its entire course , and there was a marked narrowing of the orifices of the large major visceral arteries .\n",
            "    guess: HARD1;  label: HARD3\n",
            "\n",
            "\n",
            "9) example number: 56\n",
            "    sentence: but both chains aggressively promote the latest mass-market HARD cover best sellers , putting them in the front of each store or along the main thoroughfare , the `` power aisle . ''\n",
            "    guess: HARD1;  label: HARD3\n",
            "\n",
            "\n",
            "10) example number: 58\n",
            "    sentence: for a HARD kernel of uncertainty chafes beneath our well-being , mr . president .\n",
            "    guess: HARD1;  label: HARD3\n",
            "\n",
            "\n",
            "11) example number: 61\n",
            "    sentence: the seeds of HARD , fibrous , stony fruits , called nuts , provide highly concentrated foods , oils , and other materials of value .\n",
            "    guess: HARD1;  label: HARD3\n",
            "\n",
            "\n",
            "12) example number: 71\n",
            "    sentence: the loud music , bright colors and HARD , slick seats in a fast-food outlet , for example , are intended both to entertain and to trigger an eat-and-run response .\n",
            "    guess: HARD1;  label: HARD3\n",
            "\n",
            "\n",
            "13) example number: 92\n",
            "    sentence: at 1 : 30 in the afternoon , however , there 's plenty of all three , as the unfortunate actors of `` the tempest '' discovered the HARD way this week .\n",
            "    guess: HARD3;  label: HARD1\n",
            "\n",
            "\n",
            "14) example number: 95\n",
            "    sentence: the author , a former industrial film maker , has the knack of weaving in HARD information about video production without making you feel cornered by a self-absorbed film major .\n",
            "    guess: HARD1;  label: HARD2\n",
            "\n",
            "\n",
            "15) example number: 101\n",
            "    sentence: arlene had a HARD voice , too , this time .\n",
            "    guess: HARD1;  label: HARD2\n",
            "\n",
            "\n",
            "16) example number: 107\n",
            "    sentence: it is therefore on real HARD cash that he bases his argument that if manchester is ready to pay the top price of , say , 25 s a seat , and fill the theatre , manchester can expect more of the world-famous ones - always provided that her claims do not unhappily conflict with those of la scala , new york 's metropolitan opera , vienna , venice , paris , san francisco , and the rest of the world 's leading opera houses .\n",
            "    guess: HARD1;  label: HARD2\n",
            "\n",
            "\n",
            "17) example number: 121\n",
            "    sentence: they 're convinced the only reason cities and counties can 't find enough qualified asians to hire is that they 're not looking HARD enough .\n",
            "    guess: HARD1;  label: HARD2\n",
            "\n",
            "\n",
            "18) example number: 124\n",
            "    sentence: it should feel heavy and not too HARD ; its skin should be thick and without any discolored patches ; it should smell nice but not too strongly .\n",
            "    guess: HARD1;  label: HARD3\n",
            "\n",
            "\n",
            "19) example number: 128\n",
            "    sentence: the new nintendo `` is going to be a HARDER sell than people originally anticipated , \" he said .\n",
            "    guess: HARD1;  label: HARD2\n",
            "\n",
            "\n",
            "20) example number: 136\n",
            "    sentence: the new honey-haired somers is just as sexy , but she 's now thoughtful , articulate and self-assured without the HARD edges of the past .\n",
            "    guess: HARD1;  label: HARD2\n",
            "\n",
            "\n",
            "21) example number: 137\n",
            "    sentence: the dogloo is made of two sheets of HARD plastic with nitrogen bubbles in between for insulation .\n",
            "    guess: HARD1;  label: HARD3\n",
            "\n",
            "\n",
            "22) example number: 151\n",
            "    sentence: on monday and wednesday , multiple accidents caused miles - long morning backups before our HARD hatted friends even went to work .\n",
            "    guess: HARD1;  label: HARD3\n",
            "\n",
            "\n",
            "23) example number: 175\n",
            "    sentence: a general rule to keep in mind is that when cooking cheese it should be done on medium unless it is a HARD cheese such as grated parmesan or romano .\n",
            "    guess: HARD1;  label: HARD3\n",
            "\n",
            "\n",
            "24) example number: 193\n",
            "    sentence: as reynolds prepares to introduce camel ninety nines , a longer-length cigarette in a HARD pack ; continues testing horizon , a brand that it promotes as having improved-aroma smoke , and prepares an image overhaul for its flagship winston brand , it does so without publicity or public relations campaigns .\n",
            "    guess: HARD2;  label: HARD3\n",
            "\n",
            "\n",
            "25) example number: 194\n",
            "    sentence: k mart said that its HARD goods business showed improvement during january with the biggest gains in small appliances , home electronics , sporting goods and automotive products .\n",
            "    guess: HARD1;  label: HARD3\n",
            "\n",
            "\n",
            "26) example number: 198\n",
            "    sentence: snow was hired to bring a HARDER edge and ideological spirit to bush 's speeches as he moves toward the 1992 election .\n",
            "    guess: HARD1;  label: HARD3\n",
            "\n",
            "\n",
            "27) example number: 204\n",
            "    sentence: here are a few suggestions : ; ( check ) do n 't install equipment over HARD surfaces such as asphalt or concrete .\n",
            "    guess: HARD1;  label: HARD3\n",
            "\n",
            "\n",
            "28) example number: 214\n",
            "    sentence: `` you can serve it as an appetizer , entree , vegetable and dessert , use it when it 's HARD and green , soft and ripe , and at every stage in between . ''\n",
            "    guess: HARD1;  label: HARD3\n",
            "\n",
            "\n",
            "29) example number: 243\n",
            "    sentence: during this recession and HARD economic times , i am grateful that i have a steady job that i enjoy .\n",
            "    guess: HARD1;  label: HARD2\n",
            "\n",
            "\n",
            "30) example number: 244\n",
            "    sentence: note : cinnamon red hots are small red candies slightly HARDER than jelly beans , available in the baking section of supermarkets .\n",
            "    guess: HARD1;  label: HARD3\n",
            "\n",
            "\n",
            "31) example number: 252\n",
            "    sentence: `` doing the play before a sea of very HARD men , i felt this eerie kind of power .\n",
            "    guess: HARD1;  label: HARD2\n",
            "\n",
            "\n",
            "32) example number: 254\n",
            "    sentence: lumps of a very dark and HARD ferruginous sandstone , recalling a tropical laterite , can also be found with ironstained purbeck slabs in the surrounding arable fields .\n",
            "    guess: HARD1;  label: HARD3\n",
            "\n",
            "\n",
            "33) example number: 255\n",
            "    sentence: at the end of his HARD , long and especially good day , piniella paid a visit to the reds ' administrative offices , where he quickly was stopped by an autograph-seeking secretary .\n",
            "    guess: HARD1;  label: HARD2\n",
            "\n",
            "\n",
            "34) example number: 260\n",
            "    sentence: they said the pasta was too HARD .\n",
            "    guess: HARD1;  label: HARD3\n",
            "\n",
            "\n",
            "35) example number: 264\n",
            "    sentence: anne scitovsky , chief of the health economics division at the research institute of the palo alto medical foundation , said hellinger 's estimate on the cost of treating hiv `` makes sense to me , but it 's not based on as HARD data as the aids estimate . ''\n",
            "    guess: HARD1;  label: HARD2\n",
            "\n",
            "\n",
            "36) example number: 279\n",
            "    sentence: no one , in fact , defended the content of the series , and several speakers from the audience chided the board for not being HARD enough on the textbooks .\n",
            "    guess: HARD1;  label: HARD2\n",
            "\n",
            "\n",
            "37) example number: 280\n",
            "    sentence: some people must get their lumps the HARD way and apparently your daughter is one of them .\n",
            "    guess: HARD1;  label: HARD2\n",
            "\n",
            "\n",
            "38) example number: 282\n",
            "    sentence: in a six-block radius , there are lesbian bars with chrome-plated harley-davidson motorcycles parked outside , taco stands alongside szechwan restaurants , mexican voodoo parlors filled with ceramic figurines of the devil and bars where cappuccino-sipping beatniks share tables with HARD hat construction workers .\n",
            "    guess: HARD1;  label: HARD3\n",
            "\n",
            "\n",
            "39) example number: 298\n",
            "    sentence: `` for dessert , you cannot improve on HARD cookies on which to sharpen your teeth or to dunk in any lingering wine .\n",
            "    guess: HARD1;  label: HARD3\n",
            "\n",
            "\n",
            "40) example number: 301\n",
            "    sentence: my only complaint here is that the industrial-strength roll is too HARD on the outside and too thick .\n",
            "    guess: HARD1;  label: HARD3\n",
            "\n",
            "\n",
            "41) example number: 302\n",
            "    sentence: and officials there have no incentive to look HARD at effectiveness ; drug programs are simply paying the air force and navy for the flying and steaming they would be doing anyway out of their own budgets .\n",
            "    guess: HARD1;  label: HARD2\n",
            "\n",
            "\n",
            "42) example number: 308\n",
            "    sentence: so HARD that when tambrands inc . advertised in the army times , the navy times and the air force times offering to send tampax directly to women soldiers in the gulf , the company received `` a couple thousand requests , \" said bruce garren , spokesman for the lake success , n . y . , company .\n",
            "    guess: HARD3;  label: HARD1\n",
            "\n",
            "\n",
            "43) example number: 309\n",
            "    sentence: like milosevic , yeltsin prefers issuing decrees to the HARDER task of persuasion .\n",
            "    guess: HARD2;  label: HARD1\n",
            "\n",
            "\n",
            "44) example number: 317\n",
            "    sentence: marble cherubs , for example , and carved marble fireplaces had been attacked with HARD blunt objects .\n",
            "    guess: HARD1;  label: HARD3\n",
            "\n",
            "\n",
            "45) example number: 318\n",
            "    sentence: `` those HARD , active words are seldom associated with females . ''\n",
            "    guess: HARD1;  label: HARD2\n",
            "\n",
            "\n",
            "46) example number: 323\n",
            "    sentence: whereas everything in boccaccio is HARD , elegant and general , in chaucer it is muted , peculiar , full of objects that are unexpected and yet oddly characteristic . ''\n",
            "    guess: HARD1;  label: HARD2\n",
            "\n",
            "\n",
            "47) example number: 326\n",
            "    sentence: `` i 'd always had a HARD edge to me , which was intensified by the years i spent in vietnam , \" he said .\n",
            "    guess: HARD1;  label: HARD3\n",
            "\n",
            "\n",
            "48) example number: 360\n",
            "    sentence: the interior is overly chintzy , with HARD and uncomfortable seats and fabric that feels cheap .\n",
            "    guess: HARD2;  label: HARD3\n",
            "\n",
            "\n",
            "49) example number: 386\n",
            "    sentence: disagreement over other matters has kept HARD feelings from dying , she said .\n",
            "    guess: HARD1;  label: HARD2\n",
            "\n",
            "\n",
            "50) example number: 393\n",
            "    sentence: the berkeley-based company said its product , which must be refrigerated , is more like mousse than candy since the truffles that have HARD chocolate shells are high in cream content and low in sugar .\n",
            "    guess: HARD1;  label: HARD3\n",
            "\n",
            "\n",
            "51) example number: 398\n",
            "    sentence: but tyrrell acknowledged , `` the trouble with doing all this HARD research is you kind of get back to what granny used to say . ''\n",
            "    guess: HARD1;  label: HARD2\n",
            "\n",
            "\n",
            "52) example number: 433\n",
            "    sentence: i think we should respect the HARD work the committee has done .\n",
            "    guess: HARD1;  label: HARD2\n",
            "\n",
            "\n",
            "53) example number: 438\n",
            "    sentence: the rear seat was thin and HARD , like a park bench .\n",
            "    guess: HARD1;  label: HARD3\n",
            "\n",
            "\n",
            "54) example number: 468\n",
            "    sentence: `` lotteries are moving toward HARDER forms of gambling to deflect criticism from their stagnant sales , and states are looking toward harder forms of gambling , envisioning that they will generate the revenues that lotteries did , \" said michael jones , whose chicago-based marketing promotion company specializes in gaming .\n",
            "    guess: HARD1;  label: HARD2\n",
            "\n",
            "\n",
            "55) example number: 471\n",
            "    sentence: just before serving , crisp tortillas as above but leave HARD and flat .\n",
            "    guess: HARD1;  label: HARD3\n",
            "\n",
            "\n",
            "56) example number: 472\n",
            "    sentence: bombarded by bad news , disturbed by threats of terrorism , confounded by an economy that has skidded into recession and angered by elected officials who posture and pontificate rather than step up to the HARD questions of deficits , ethics and accountability -- people are upset .\n",
            "    guess: HARD2;  label: HARD1\n",
            "\n",
            "\n",
            "57) example number: 473\n",
            "    sentence: `` as a matter of fact a good HARD frost seems to clear the old tubes .\n",
            "    guess: HARD2;  label: HARD3\n",
            "\n",
            "\n",
            "58) example number: 474\n",
            "    sentence: the soviet union will supply 1 . 5 million cubic meters of timber a year , mostly HARD pine , and china will provide coal , salt , electricity , oil and other materials , the news service said .\n",
            "    guess: HARD1;  label: HARD3\n",
            "\n",
            "\n",
            "59) example number: 491\n",
            "    sentence: the advent of astroturf means players are moving faster and hitting a HARDER surface .\n",
            "    guess: HARD1;  label: HARD3\n",
            "\n",
            "\n",
            "60) example number: 522\n",
            "    sentence: there could be some HARD feelings in this one -- it 's the first time the two teams have met since calgary defenseman jamie macoun broke buffalo star pat lafontaine 's jaw with a high stick nov . 16 .\n",
            "    guess: HARD1;  label: HARD2\n",
            "\n",
            "\n",
            "61) example number: 531\n",
            "    sentence: ( when the whores are hauled off to prison , stripped of wigs and makeup in the HARD light of day , they look like that ragtag group of washington hookers marched across a potomac river bridge by the d . c . police a couple of years ago . )\n",
            "    guess: HARD1;  label: HARD2\n",
            "\n",
            "\n",
            "62) example number: 543\n",
            "    sentence: in the bay area , the soil is mostly HARD clay , and the best way to loosen up this compacted soil is to dig in huge amounts of compost , redwood soil conditioner or other organic soil amendments .\n",
            "    guess: HARD1;  label: HARD3\n",
            "\n",
            "\n",
            "63) example number: 549\n",
            "    sentence: `` we think it 's a very major breakthrough , \" schoemehl said , `` but the really HARD work still is in front of us . ''\n",
            "    guess: HARD1;  label: HARD2\n",
            "\n",
            "\n",
            "64) example number: 552\n",
            "    sentence: demure one moment , HARD and decisive the next , she caught the dual sides of a complex character .\n",
            "    guess: HARD1;  label: HARD2\n",
            "\n",
            "\n",
            "65) example number: 578\n",
            "    sentence: it was a big lesson , a HARD lesson , but we needed to learn it . ''\n",
            "    guess: HARD3;  label: HARD1\n",
            "\n",
            "\n",
            "66) example number: 583\n",
            "    sentence: in north america , the tortilla is often fried HARD .\n",
            "    guess: HARD1;  label: HARD3\n",
            "\n",
            "\n",
            "67) example number: 595\n",
            "    sentence: `` it 's a HARD , rough ride but it 's got a lot of power and it 's amazing how much the aircraft can take .\n",
            "    guess: HARD1;  label: HARD2\n",
            "\n",
            "\n",
            "68) example number: 601\n",
            "    sentence: -- j . d . vanderlaan ; los gatos ; don 't let your pets get spooked oct . 31 ; halloween is around the corner , a HARD time for our four-legged friends .\n",
            "    guess: HARD2;  label: HARD1\n",
            "\n",
            "\n",
            "69) example number: 602\n",
            "    sentence: the federal government wants to lease portions of the outer continental shelf in norton sound , including 1 , 000 disputed acres , for HARD rock mineral recovery , with gold the primary target .\n",
            "    guess: HARD1;  label: HARD3\n",
            "\n",
            "\n",
            "70) example number: 616\n",
            "    sentence: put cut pieces on plaster board to dry to firm leather - HARD state .\n",
            "    guess: HARD1;  label: HARD3\n",
            "\n",
            "\n",
            "71) example number: 628\n",
            "    sentence: if the existing surface is made of wood , you may not have to install a HARD flooring such as ceramic tile , stone or vinyl over it .\n",
            "    guess: HARD1;  label: HARD3\n",
            "\n",
            "\n",
            "72) example number: 632\n",
            "    sentence: if someone is moving from a larger apartment to a smaller one , mr . thometz may also weed out HARD cover classics that are readily available in paperback .\n",
            "    guess: HARD1;  label: HARD3\n",
            "\n",
            "\n",
            "73) example number: 638\n",
            "    sentence: statistics canada said that of the HARD red spring wheat remaining in the storage bins of western farmers , about 47 % was of the top grade , up from 46 % last year .\n",
            "    guess: HARD1;  label: HARD3\n",
            "\n",
            "\n",
            "74) example number: 654\n",
            "    sentence: something HARD grazed his knuckles .\n",
            "    guess: HARD1;  label: HARD3\n",
            "\n",
            "\n",
            "75) example number: 657\n",
            "    sentence: but this astonishment of mine was much increased , when some days after , a storm came upon us , and the captain rushed out of the cabin in his nightcap , and nothing else but his shirt on ; and leaping up on the poop , began to jump up and down , and curse and swear , and call the men aloft all manner of HARD names , just like a common loafer in the street .\n",
            "    guess: HARD1;  label: HARD2\n",
            "\n",
            "\n",
            "76) example number: 658\n",
            "    sentence: paperweight may be personalized on back while clay is leather HARD .\n",
            "    guess: HARD1;  label: HARD3\n",
            "\n",
            "\n",
            "77) example number: 676\n",
            "    sentence: `` pro athletes never know how good they have it until they have to face some kind of HARD reality .\n",
            "    guess: HARD1;  label: HARD2\n",
            "\n",
            "\n",
            "78) example number: 710\n",
            "    sentence: the shelf of HARD lava , resting on a pile of loose rock , could snap off and dump them in the ocean .\n",
            "    guess: HARD1;  label: HARD3\n",
            "\n",
            "\n",
            "79) example number: 723\n",
            "    sentence: the play equipment , sand and HARD surface for handicapped access cost about $ 160 , 000 , said lincoln fong , senior landscape architect for the city .\n",
            "    guess: HARD1;  label: HARD3\n",
            "\n",
            "\n",
            "80) example number: 726\n",
            "    sentence: lendl , a three-time u . s . open champion , leads their series 13-10 and is 2-1 against edberg on HARD courts this year .\n",
            "    guess: HARD1;  label: HARD3\n",
            "\n",
            "\n",
            "81) example number: 729\n",
            "    sentence: but the HARD questions about efficiency and competitiveness wo n 't be answered until the hand is dealt and played .\n",
            "    guess: HARD2;  label: HARD1\n",
            "\n",
            "\n",
            "82) example number: 737\n",
            "    sentence: jeffrey edelman , an analyst at drexel burnham lambert inc . , said penney also has done `` a very good job of placing more emphasis on profitable soft goods , while moving out of less profitable HARD goods categories such as electronics and sporting goods . ''\n",
            "    guess: HARD1;  label: HARD3\n",
            "\n",
            "\n",
            "83) example number: 752\n",
            "    sentence: but he said , `` my sense is that you 're not going to gain back on the easy day what you lost on the HARD day -- your body does break down during the course of a season . ''\n",
            "    guess: HARD3;  label: HARD1\n",
            "\n",
            "\n",
            "84) example number: 764\n",
            "    sentence: she had an instant 's glimpse of grey eyes , HARD as steel , then his lips were on hers .\n",
            "    guess: HARD1;  label: HARD2\n",
            "\n",
            "\n",
            "85) example number: 783\n",
            "    sentence: in a 1960s survey , nearly 60 percent of americans believed `` HARD work always pays off . ''\n",
            "    guess: HARD1;  label: HARD2\n",
            "\n",
            "\n",
            "86) example number: 794\n",
            "    sentence: nosair had no reason to kill kahane because he had come to believe that the radical zionist had softened his HARD line on arabs and the mideast , kunstler said in his opening statement at nosair 's murder trial .\n",
            "    guess: HARD2;  label: HARD1\n",
            "\n",
            "\n",
            "87) example number: 796\n",
            "    sentence: the first women sleuths were so HARD that v . i .\n",
            "    guess: HARD1;  label: HARD2\n",
            "\n",
            "\n",
            "88) example number: 801\n",
            "    sentence: english professor herbert lindenberger feared that humanities departments would suffer the brunt of the budget cuts because , unlike the HARD sciences , they bring in few overhead dollars .\n",
            "    guess: HARD1;  label: HARD2\n",
            "\n",
            "\n",
            "89) example number: 824\n",
            "    sentence: in a december 1984 `` straight talk '' memo that made him a soulmate of former assistant secretary of state elliott abrams , both as to truthfulness and their approach to the third world , gates advocated `` HARD measures '' ( air strikes ) vs . `` half measures '' ( the contras ) to destroy the nicaraguan military , which they viewed as a threat to american influence in the western hemisphere .\n",
            "    guess: HARD1;  label: HARD2\n",
            "\n",
            "\n",
            "90) example number: 835\n",
            "    sentence: `` i had somewhat of a HARD time right afterward , \" said woodcock , who was a 6-3 , 260 pound defensive lineman for the detroit lions from 1976 to 1980 and for the san diego chargers in '80 and '81 .\n",
            "    guess: HARD3;  label: HARD1\n",
            "\n",
            "\n",
            "91) example number: 836\n",
            "    sentence: `` playing at the 'stick , you get a lot of spike marks that stay in the dirt because the ground is so HARD .\n",
            "    guess: HARD1;  label: HARD3\n",
            "\n",
            "\n",
            "92) example number: 863\n",
            "    sentence: some of canada 's wheat customers rely for milling on canada 's high-grade , high-protein , HARD red spring wheat .\n",
            "    guess: HARD1;  label: HARD3\n",
            "\n",
            "\n"
          ],
          "name": "stdout"
        }
      ]
    },
    {
      "cell_type": "markdown",
      "metadata": {
        "id": "Vc2l_xdjT7fY"
      },
      "source": [
        ""
      ]
    },
    {
      "cell_type": "markdown",
      "metadata": {
        "id": "LL5KKsHdT7fY"
      },
      "source": [
        "### 4.\tEntrenamiento y validación de dos clasificadores para la palabra «serve».   "
      ]
    },
    {
      "cell_type": "code",
      "metadata": {
        "id": "kqAuEPwcT7fZ",
        "colab": {
          "base_uri": "https://localhost:8080/",
          "height": 358
        },
        "outputId": "373fdb0e-bdd3-484f-e06e-6d522cb837e8"
      },
      "source": [
        "clasificador_serve_vecinas = wsd_clasificador(NaiveBayesClassifier.train, 'serve.pos', wsd_caracteristicas_palabras_vecinas, number=250, print_metrics=False, confusion_matrix=True)"
      ],
      "execution_count": null,
      "outputs": [
        {
          "output_type": "display_data",
          "data": {
            "image/png": "[encoded data removed]",
            "text/plain": [
              "<Figure size 288x288 with 1 Axes>"
            ]
          },
          "metadata": {
            "tags": [],
            "needs_background": "light"
          }
        }
      ]
    },
    {
      "cell_type": "code",
      "metadata": {
        "id": "ygTC_d3zT7fZ",
        "colab": {
          "base_uri": "https://localhost:8080/",
          "height": 358
        },
        "outputId": "0a8dc686-20b8-46cf-d184-b413218f3499"
      },
      "source": [
        "clasificador_serve_colocacion = wsd_clasificador(NaiveBayesClassifier.train, 'serve.pos', wsd_caracteristicas_colocacion, distance=2, print_metrics=False, errors=False, confusion_matrix=True)"
      ],
      "execution_count": null,
      "outputs": [
        {
          "output_type": "display_data",
          "data": {
            "image/png": "[encoded data removed]",
            "text/plain": [
              "<Figure size 288x288 with 1 Axes>"
            ]
          },
          "metadata": {
            "tags": [],
            "needs_background": "light"
          }
        }
      ]
    },
    {
      "cell_type": "code",
      "metadata": {
        "colab": {
          "base_uri": "https://localhost:8080/",
          "height": 358
        },
        "id": "kCClxK39-RqY",
        "outputId": "40b91cb9-6ff2-4894-aae8-09c7d0a851b4"
      },
      "source": [
        "clasificador_serve_vecinas = wsd_clasificador(DecisionTreeClassifier.train, 'serve.pos', wsd_caracteristicas_palabras_vecinas, number=250, print_metrics=False, confusion_matrix=True)"
      ],
      "execution_count": null,
      "outputs": [
        {
          "output_type": "display_data",
          "data": {
            "image/png": "[encoded data removed]",
            "text/plain": [
              "<Figure size 288x288 with 1 Axes>"
            ]
          },
          "metadata": {
            "tags": [],
            "needs_background": "light"
          }
        }
      ]
    },
    {
      "cell_type": "code",
      "metadata": {
        "colab": {
          "base_uri": "https://localhost:8080/",
          "height": 358
        },
        "id": "wdeB1wJi-RzX",
        "outputId": "6f3a8493-669b-46bc-aad4-8bb738815439"
      },
      "source": [
        "clasificador_serve_colocacion = wsd_clasificador(DecisionTreeClassifier.train, 'serve.pos', wsd_caracteristicas_colocacion, distance=2, print_metrics=False, errors=False, confusion_matrix=True)"
      ],
      "execution_count": null,
      "outputs": [
        {
          "output_type": "display_data",
          "data": {
            "image/png": "[encoded data removed]",
            "text/plain": [
              "<Figure size 288x288 with 1 Axes>"
            ]
          },
          "metadata": {
            "tags": [],
            "needs_background": "light"
          }
        }
      ]
    },
    {
      "cell_type": "markdown",
      "metadata": {
        "id": "9Gf6ElwhT7fZ"
      },
      "source": [
        "### 5.\tAnálisis de resultados del rendimiento de los clasificadores. "
      ]
    },
    {
      "cell_type": "markdown",
      "metadata": {
        "id": "nVIAoYVxT7fZ"
      },
      "source": [
        "| Clasificador  | Extracción de   características | F1-SCORE |         |        |        | ACCURACY |\n",
        "|---------------|---------------------------------|:--------:|:-------:|:------:|:------:|:--------:|\n",
        "|               |                                 |          |         |        |        |          |\n",
        "|               |                                 |   HARD1  |  HARD2  |  HARD3 |        |          |\n",
        "| Bayes         | Palabras vecinas                |   0.92   |   0.55  |  0.48  |        |   0.86   |\n",
        "| Bayes         | Colocacion                      |   0.94   |   0.72  |  0.52  |        |   0.89   |\n",
        "| Decision Tree | Palabras vecinas                |   0.92   |   0.58  |  0.46  |        |   0.87   |\n",
        "| Decision Tree | Colocacion                      |   0.93   |   0.64  |  0.41  |        |   0.88   |\n",
        "|               |                                 |          |         |        |        |          |\n",
        "|               |                                 |  SERVE10 | SERVE12 | SERVE2 | SERVE6 |          |\n",
        "| Bayes         | Palabras vecinas                |   0.85   |   0.78  |  0.54  |  0.59  |   0.74   |\n",
        "| Bayes         | Colocacion                      |   0.83   |   0.76  |  0.72  |  0.48  |   0.77   |\n",
        "| Decision Tree | Palabras vecinas                |    0.8   |   0.74  |  0.37  |  0.48  |   0.69   |\n",
        "| Decision Tree | Colocacion                      |   0.74   |   0.59  |  0.64  |  0.17  |   0.66   |"
      ]
    },
    {
      "cell_type": "markdown",
      "metadata": {
        "id": "y7mJDVmpT7fa"
      },
      "source": [
        "**Observaciones:**\n",
        "\n",
        "Existen varias razones para considerar cada modelo y sus resultados entre los que se pueden mencionar:\n",
        "\n",
        "*   Los conjuntos de datos tienen diferentes cantidades de ejemplos y clases\n",
        "*   El conjunto de **hard.pos** presenta mayor desbalanceo que el conjunto de **serve.pos**\n",
        "*   A mayor número de clases parace que se requieren modelos más robustos para lograr un mejor desempeño del clasificador.\n",
        "\n",
        "\n"
      ]
    },
    {
      "cell_type": "markdown",
      "metadata": {
        "id": "BwcuFq8RT7fa"
      },
      "source": [
        "Se tendrían que utilizar conjuntos de datos que consideraran ambas palabras como datos de entrada con más clases de salida y más instancias para el entrenamiento. para determinar el desempeño de dos o más clasificadores se debe considerar un solo conjunto de datos que sea de igual entrada para los dos modelos."
      ]
    },
    {
      "cell_type": "markdown",
      "metadata": {
        "id": "Fv769eV1T7fa"
      },
      "source": [
        "Un clasificador aleoterio en el mejor de los casos podría lograr un 0.5 de accuracy pero en general puede estar en el orden inferior al 0.2. Con esto en mente podemos ver que el clasificador de bayer con extracción de características basadas en colocación tuvo el mejor desempeño en ambos casos:\n",
        "\n",
        "*   hard.pos  Accuracy: 0.89\n",
        "*   serve.pos Accuracy: 0.77"
      ]
    },
    {
      "cell_type": "markdown",
      "metadata": {
        "id": "0VJlgHxfT7fa"
      },
      "source": [
        "<span style=\"font-size: 14pt; font-weight: bold; color: #0098cd;\">Parte 4: \n",
        "Conclusiones sobre el uso de aprendizaje automático supervisado para desambiguar el sentido de las palabras</span>\n",
        "\n",
        "Una vez hayas implementado diferentes clasificadores para desambiguar el sentido de diferentes palabras y analizado su desempeño, reflexiona sobre el uso de algoritmos basados en aprendizaje automático supervisado para resolver la tarea de desambiguación del sentido de las palabras. Para ello responde de forma razonada a las siguientes preguntas:"
      ]
    },
    {
      "cell_type": "markdown",
      "metadata": {
        "id": "K53uutEVT7fb"
      },
      "source": [
        "Los clasificadores considerados NayiveBayer y DecisionTree, curiosamente presentan un buen resultado en general para ser modelos muy sencillos, perosolo funcionan adecuadamente para palabras individuales (En los casos utilizados HARD y SERVE) con pocas clases. Si se tratara de utilizar un modelo de generalización que cubriera más palabras y sentidos estos modelos tendrían mucha dificultad debido a la alta dimensionalidad de las características que se requerirían y la cantidad de clases para cada uno de los sentidos. Los modelos son lentos para entrenar con muchos datos, como en el caso de los arboles de decisión que tomaron más de 20 minutos de entrenamiento para un conjunto de características de menos de 10.000 instancias.\n"
      ]
    },
    {
      "cell_type": "markdown",
      "metadata": {
        "id": "-ajfsRqBT7fb"
      },
      "source": [
        "Ralizando una revisión de diferentes aproximaciones utilizados e investigación en desambiguación, algunas de las recomendaciones que se han alcanzado para mejorar el desempeño de los sistemas de desambiguación son:\n",
        "\n",
        "*   Uso de dataset más amplios que senseval2 (Ejemplo senseval 3 o LeskCorpus)\n",
        "*   Utilizando de modelos de aprendizaje basados en grafos para que se pueda capturar la interrelación de las palabras y los diferente sentidos\n",
        "*   Utilización de modelos de representación de características basados en vectores (Embeddings)\n",
        "* Utilizar modelo de lenguaje como BERT o GPT que han sido pre-entrenados con conjuntos masivos de datos.\n",
        "*   Integrar modelos de aprendizaje supervisado y aprendizaje semi-supervisados con métodoso basados en tesauros y diccionarios (Por ejemplo usando wordnet)\n",
        "\n",
        "\n",
        "**Referencias:**\n",
        "\n",
        "- Improved Word Sense Disambiguation Using Pre-Trained Contextualized Word Representations, Hadiwinoto et all. https://arxiv.org/abs/1910.00194\n",
        "- Named Entity Disambiguation Boosted with Knowledge Graphs. https://towardsdatascience.com/\n",
        "- NE disambiguation boosted with knowledge graphs. named-entity-disambiguation-boosted-with-knowledge-graphs-4a93a94381ef\n",
        "https://web.stanford.edu/~jurafsky/slp3/slides/Chapter18.wsd.pdf\n",
        "- Word Sense Disambiguation: A Unified Evaluation Framework and Empirical Comparison, Raganato et all. https://www.aclweb.org/anthology/E17-1010.pdf\n",
        "- Toward Universal Word Sense Disambiguation Using Deep Neural Networks. Valco et all. https://ieeexplore.ieee.org/stamp/stamp.jsp?arnumber=8706934\n",
        "- Word Sense Disambiguation for 158 Languages using Word Embeddings Only. \n",
        "Logacheva et all. https://www.aclweb.org/anthology/2020.lrec-1.728.pdf\n",
        "\n"
      ]
    }
  ]
}